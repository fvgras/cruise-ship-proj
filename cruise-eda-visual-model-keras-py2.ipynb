{
 "cells": [
  {
   "cell_type": "code",
   "execution_count": 3,
   "metadata": {
    "collapsed": true
   },
   "outputs": [],
   "source": [
    "## this ipynb for EDA the Data ##\n",
    "from __future__ import print_function\n",
    "from __future__ import division\n",
    "from __future__ import unicode_literals"
   ]
  },
  {
   "cell_type": "code",
   "execution_count": 4,
   "metadata": {},
   "outputs": [
    {
     "name": "stderr",
     "output_type": "stream",
     "text": [
      "Using TensorFlow backend.\n"
     ]
    }
   ],
   "source": [
    "import pandas as pd\n",
    "import numpy as np\n",
    "#import bokeh          ## visualize tool for browsers\n",
    "from matplotlib import pyplot as plt\n",
    "import seaborn as sns\n",
    "#import tqdm\n",
    "#from sklearn.ensemble        import GradientBoostingRegressor\n",
    "#from sklearn.ensemble        import GradientBoostingClassifier\n",
    "#from sklearn.ensemble        import RandomForestClassifier\n",
    "#from sklearn.ensemble        import ExtraTreesClassifier\n",
    "from sklearn.model_selection import cross_val_predict, cross_val_score, KFold, train_test_split\n",
    "from sklearn.preprocessing   import StandardScaler\n",
    "\n",
    "from keras.models import Sequential\n",
    "from keras.layers import Dense, Dropout\n",
    "#from keras.layers.recurrent import LSTM\n",
    "from keras import callbacks\n",
    "\n",
    "%matplotlib inline"
   ]
  },
  {
   "cell_type": "code",
   "execution_count": 5,
   "metadata": {
    "collapsed": true
   },
   "outputs": [],
   "source": [
    "## three CSVs ## captured 7/20/2017\n",
    "cities =   './brandon-telle-cruise-ship-locations/data/output_cities.csv'                        ## 55k\n",
    "location = './brandon-telle-cruise-ship-locations/data/output_daily_ship_location.csv'           ## 72Meg\n",
    "ships =    './brandon-telle-cruise-ship-locations/data/output_ships.csv' ## wikipedia references ## 51k\n",
    "## represents data from 2003 to 1H2017\n",
    "## see https://data.world/brandon-telle/cruise-ship-locations/"
   ]
  },
  {
   "cell_type": "code",
   "execution_count": 6,
   "metadata": {
    "collapsed": true
   },
   "outputs": [],
   "source": [
    "df_c = pd.read_csv(cities)\n",
    "df_l = pd.read_csv(location)\n",
    "df_s = pd.read_csv(ships)\n",
    "# only 2 seconds to read the "
   ]
  },
  {
   "cell_type": "code",
   "execution_count": 7,
   "metadata": {},
   "outputs": [
    {
     "data": {
      "text/html": [
       "<div>\n",
       "<style>\n",
       "    .dataframe thead tr:only-child th {\n",
       "        text-align: right;\n",
       "    }\n",
       "\n",
       "    .dataframe thead th {\n",
       "        text-align: left;\n",
       "    }\n",
       "\n",
       "    .dataframe tbody tr th {\n",
       "        vertical-align: top;\n",
       "    }\n",
       "</style>\n",
       "<table border=\"1\" class=\"dataframe\">\n",
       "  <thead>\n",
       "    <tr style=\"text-align: right;\">\n",
       "      <th></th>\n",
       "      <th>id</th>\n",
       "      <th>city</th>\n",
       "      <th>country</th>\n",
       "      <th>country_code</th>\n",
       "      <th>lat</th>\n",
       "      <th>lon</th>\n",
       "      <th>location</th>\n",
       "    </tr>\n",
       "  </thead>\n",
       "  <tbody>\n",
       "    <tr>\n",
       "      <th>0</th>\n",
       "      <td>NaN</td>\n",
       "      <td>Port Vendres (Carcassonne)</td>\n",
       "      <td>NaN</td>\n",
       "      <td>NaN</td>\n",
       "      <td>NaN</td>\n",
       "      <td>NaN</td>\n",
       "      <td>NaN</td>\n",
       "    </tr>\n",
       "    <tr>\n",
       "      <th>1</th>\n",
       "      <td>NaN</td>\n",
       "      <td>Puerto Quetzal (Antigua)</td>\n",
       "      <td>NaN</td>\n",
       "      <td>NaN</td>\n",
       "      <td>NaN</td>\n",
       "      <td>NaN</td>\n",
       "      <td>NaN</td>\n",
       "    </tr>\n",
       "    <tr>\n",
       "      <th>2</th>\n",
       "      <td>ChIJDRIsQgFvDowRDoJZqcp_5D0</td>\n",
       "      <td>St. Martin</td>\n",
       "      <td>NaN</td>\n",
       "      <td>NaN</td>\n",
       "      <td>18.070830</td>\n",
       "      <td>-63.050081</td>\n",
       "      <td>POINT(18.0708298 -63.0500809)</td>\n",
       "    </tr>\n",
       "    <tr>\n",
       "      <th>3</th>\n",
       "      <td>ChIJSyCNfAfJlEARrofUZIqAX3w</td>\n",
       "      <td>Yalta</td>\n",
       "      <td>NaN</td>\n",
       "      <td>NaN</td>\n",
       "      <td>44.495205</td>\n",
       "      <td>34.166301</td>\n",
       "      <td>POINT(44.495205000000013 34.166301)</td>\n",
       "    </tr>\n",
       "    <tr>\n",
       "      <th>4</th>\n",
       "      <td>ChIJ4QD2vUx3zYgRYA13Gn5NKU4</td>\n",
       "      <td>Havana</td>\n",
       "      <td>Cuba</td>\n",
       "      <td>CU</td>\n",
       "      <td>23.113592</td>\n",
       "      <td>-82.366596</td>\n",
       "      <td>POINT(23.1135925 -82.3665956)</td>\n",
       "    </tr>\n",
       "  </tbody>\n",
       "</table>\n",
       "</div>"
      ],
      "text/plain": [
       "                            id                        city country  \\\n",
       "0                          NaN  Port Vendres (Carcassonne)     NaN   \n",
       "1                          NaN    Puerto Quetzal (Antigua)     NaN   \n",
       "2  ChIJDRIsQgFvDowRDoJZqcp_5D0                  St. Martin     NaN   \n",
       "3  ChIJSyCNfAfJlEARrofUZIqAX3w                       Yalta     NaN   \n",
       "4  ChIJ4QD2vUx3zYgRYA13Gn5NKU4                      Havana    Cuba   \n",
       "\n",
       "  country_code        lat        lon                             location  \n",
       "0          NaN        NaN        NaN                                  NaN  \n",
       "1          NaN        NaN        NaN                                  NaN  \n",
       "2          NaN  18.070830 -63.050081        POINT(18.0708298 -63.0500809)  \n",
       "3          NaN  44.495205  34.166301  POINT(44.495205000000013 34.166301)  \n",
       "4           CU  23.113592 -82.366596        POINT(23.1135925 -82.3665956)  "
      ]
     },
     "execution_count": 7,
     "metadata": {},
     "output_type": "execute_result"
    }
   ],
   "source": [
    "df_c.head()   ## id is string"
   ]
  },
  {
   "cell_type": "code",
   "execution_count": 8,
   "metadata": {},
   "outputs": [
    {
     "data": {
      "text/html": [
       "<div>\n",
       "<style>\n",
       "    .dataframe thead tr:only-child th {\n",
       "        text-align: right;\n",
       "    }\n",
       "\n",
       "    .dataframe thead th {\n",
       "        text-align: left;\n",
       "    }\n",
       "\n",
       "    .dataframe tbody tr th {\n",
       "        vertical-align: top;\n",
       "    }\n",
       "</style>\n",
       "<table border=\"1\" class=\"dataframe\">\n",
       "  <thead>\n",
       "    <tr style=\"text-align: right;\">\n",
       "      <th></th>\n",
       "      <th>ship_name</th>\n",
       "      <th>callsign</th>\n",
       "      <th>major_cruise_line</th>\n",
       "      <th>date</th>\n",
       "      <th>meters_traveled</th>\n",
       "      <th>lat_start</th>\n",
       "      <th>lon_start</th>\n",
       "      <th>lat_end</th>\n",
       "      <th>lon_end</th>\n",
       "      <th>in_port</th>\n",
       "      <th>stopped_minutes</th>\n",
       "      <th>num_periods</th>\n",
       "      <th>port_city_id</th>\n",
       "      <th>port_city_name</th>\n",
       "      <th>port_city_country</th>\n",
       "    </tr>\n",
       "  </thead>\n",
       "  <tbody>\n",
       "    <tr>\n",
       "      <th>0</th>\n",
       "      <td>Carnival Splendor</td>\n",
       "      <td>3EUS</td>\n",
       "      <td>Carnival Cruise Line</td>\n",
       "      <td>2013-10-24</td>\n",
       "      <td>147030.321045</td>\n",
       "      <td>39.1000</td>\n",
       "      <td>-73.8000</td>\n",
       "      <td>40.4207</td>\n",
       "      <td>-73.7793</td>\n",
       "      <td>True</td>\n",
       "      <td>597</td>\n",
       "      <td>16</td>\n",
       "      <td>ChIJrV5odTNjx4kR8GwA-0fk4qk</td>\n",
       "      <td>Dover</td>\n",
       "      <td>US</td>\n",
       "    </tr>\n",
       "    <tr>\n",
       "      <th>1</th>\n",
       "      <td>Carnival Splendor</td>\n",
       "      <td>3EUS</td>\n",
       "      <td>Carnival Cruise Line</td>\n",
       "      <td>2015-12-14</td>\n",
       "      <td>0.000000</td>\n",
       "      <td>25.3662</td>\n",
       "      <td>-79.9476</td>\n",
       "      <td>25.3662</td>\n",
       "      <td>-79.9476</td>\n",
       "      <td>False</td>\n",
       "      <td>0</td>\n",
       "      <td>1</td>\n",
       "      <td>ChIJEcHIDqKw2YgRZU-t3XHylv8</td>\n",
       "      <td>Miami</td>\n",
       "      <td>US</td>\n",
       "    </tr>\n",
       "    <tr>\n",
       "      <th>2</th>\n",
       "      <td>Carnival Splendor</td>\n",
       "      <td>3EUS</td>\n",
       "      <td>Carnival Cruise Line</td>\n",
       "      <td>2017-01-22</td>\n",
       "      <td>304820.653095</td>\n",
       "      <td>22.9000</td>\n",
       "      <td>-78.8000</td>\n",
       "      <td>25.4292</td>\n",
       "      <td>-79.9503</td>\n",
       "      <td>True</td>\n",
       "      <td>770</td>\n",
       "      <td>29</td>\n",
       "      <td>ChIJyduBuZl8L4kR0lBeSNMB7yo</td>\n",
       "      <td>Nassau</td>\n",
       "      <td>BS</td>\n",
       "    </tr>\n",
       "    <tr>\n",
       "      <th>3</th>\n",
       "      <td>Carnival Splendor</td>\n",
       "      <td>3EUS</td>\n",
       "      <td>Carnival Cruise Line</td>\n",
       "      <td>2014-12-24</td>\n",
       "      <td>14634.546541</td>\n",
       "      <td>20.6046</td>\n",
       "      <td>-86.9222</td>\n",
       "      <td>20.4845</td>\n",
       "      <td>-86.9793</td>\n",
       "      <td>True</td>\n",
       "      <td>536</td>\n",
       "      <td>11</td>\n",
       "      <td>ChIJJ5PRsO_4To8R_IsBXK68LjQ</td>\n",
       "      <td>Cozumel</td>\n",
       "      <td>MX</td>\n",
       "    </tr>\n",
       "    <tr>\n",
       "      <th>4</th>\n",
       "      <td>Carnival Splendor</td>\n",
       "      <td>3EUS</td>\n",
       "      <td>Carnival Cruise Line</td>\n",
       "      <td>2014-09-11</td>\n",
       "      <td>230024.991854</td>\n",
       "      <td>43.2000</td>\n",
       "      <td>-65.8000</td>\n",
       "      <td>44.3935</td>\n",
       "      <td>-63.4628</td>\n",
       "      <td>True</td>\n",
       "      <td>536</td>\n",
       "      <td>14</td>\n",
       "      <td>ChIJxesm0LsTRUsRW2dKWg1nkM0</td>\n",
       "      <td>Halifax</td>\n",
       "      <td>CA</td>\n",
       "    </tr>\n",
       "  </tbody>\n",
       "</table>\n",
       "</div>"
      ],
      "text/plain": [
       "           ship_name callsign     major_cruise_line        date  \\\n",
       "0  Carnival Splendor     3EUS  Carnival Cruise Line  2013-10-24   \n",
       "1  Carnival Splendor     3EUS  Carnival Cruise Line  2015-12-14   \n",
       "2  Carnival Splendor     3EUS  Carnival Cruise Line  2017-01-22   \n",
       "3  Carnival Splendor     3EUS  Carnival Cruise Line  2014-12-24   \n",
       "4  Carnival Splendor     3EUS  Carnival Cruise Line  2014-09-11   \n",
       "\n",
       "   meters_traveled  lat_start  lon_start  lat_end  lon_end  in_port  \\\n",
       "0    147030.321045    39.1000   -73.8000  40.4207 -73.7793     True   \n",
       "1         0.000000    25.3662   -79.9476  25.3662 -79.9476    False   \n",
       "2    304820.653095    22.9000   -78.8000  25.4292 -79.9503     True   \n",
       "3     14634.546541    20.6046   -86.9222  20.4845 -86.9793     True   \n",
       "4    230024.991854    43.2000   -65.8000  44.3935 -63.4628     True   \n",
       "\n",
       "   stopped_minutes  num_periods                 port_city_id port_city_name  \\\n",
       "0              597           16  ChIJrV5odTNjx4kR8GwA-0fk4qk          Dover   \n",
       "1                0            1  ChIJEcHIDqKw2YgRZU-t3XHylv8          Miami   \n",
       "2              770           29  ChIJyduBuZl8L4kR0lBeSNMB7yo         Nassau   \n",
       "3              536           11  ChIJJ5PRsO_4To8R_IsBXK68LjQ        Cozumel   \n",
       "4              536           14  ChIJxesm0LsTRUsRW2dKWg1nkM0        Halifax   \n",
       "\n",
       "  port_city_country  \n",
       "0                US  \n",
       "1                US  \n",
       "2                BS  \n",
       "3                MX  \n",
       "4                CA  "
      ]
     },
     "execution_count": 8,
     "metadata": {},
     "output_type": "execute_result"
    }
   ],
   "source": [
    "df_l.head()"
   ]
  },
  {
   "cell_type": "code",
   "execution_count": 9,
   "metadata": {},
   "outputs": [
    {
     "data": {
      "text/html": [
       "<div>\n",
       "<style>\n",
       "    .dataframe thead tr:only-child th {\n",
       "        text-align: right;\n",
       "    }\n",
       "\n",
       "    .dataframe thead th {\n",
       "        text-align: left;\n",
       "    }\n",
       "\n",
       "    .dataframe tbody tr th {\n",
       "        vertical-align: top;\n",
       "    }\n",
       "</style>\n",
       "<table border=\"1\" class=\"dataframe\">\n",
       "  <thead>\n",
       "    <tr style=\"text-align: right;\">\n",
       "      <th></th>\n",
       "      <th>name</th>\n",
       "      <th>callsign</th>\n",
       "      <th>wiki</th>\n",
       "      <th>imo</th>\n",
       "      <th>mmsi</th>\n",
       "      <th>cruise_line</th>\n",
       "      <th>major_cruise_line</th>\n",
       "      <th>year_built</th>\n",
       "      <th>class</th>\n",
       "      <th>gross_tonnage</th>\n",
       "      <th>decks</th>\n",
       "      <th>capacity</th>\n",
       "      <th>length</th>\n",
       "      <th>vessel_type</th>\n",
       "      <th>flag</th>\n",
       "      <th>home_port</th>\n",
       "    </tr>\n",
       "  </thead>\n",
       "  <tbody>\n",
       "    <tr>\n",
       "      <th>0</th>\n",
       "      <td>Wind Surf</td>\n",
       "      <td>C6IO6</td>\n",
       "      <td>https://en.wikipedia.org/wiki/Wind_Surf_(ship)</td>\n",
       "      <td>NaN</td>\n",
       "      <td>NaN</td>\n",
       "      <td>1990–1998: Club Med1998 onwards: Windstar Cruises</td>\n",
       "      <td>Other</td>\n",
       "      <td>1990.0</td>\n",
       "      <td>NaN</td>\n",
       "      <td>NaN</td>\n",
       "      <td>8.0</td>\n",
       "      <td>386.0</td>\n",
       "      <td>187.00</td>\n",
       "      <td>NaN</td>\n",
       "      <td>NaN</td>\n",
       "      <td>NaN</td>\n",
       "    </tr>\n",
       "    <tr>\n",
       "      <th>1</th>\n",
       "      <td>Marco Polo</td>\n",
       "      <td>C6JZ7</td>\n",
       "      <td>https://en.wikipedia.org/wiki/MS_Marco_Polo</td>\n",
       "      <td>6417097.0</td>\n",
       "      <td>308693000.0</td>\n",
       "      <td>1965–1980?: Baltic Shipping Company[1]1979?–19...</td>\n",
       "      <td>Other</td>\n",
       "      <td>1964.0</td>\n",
       "      <td>Ivan Franko-class passenger ship → Ocean liner</td>\n",
       "      <td>22080.0</td>\n",
       "      <td>NaN</td>\n",
       "      <td>820.0</td>\n",
       "      <td>176.28</td>\n",
       "      <td>passengers ship</td>\n",
       "      <td>BAHAMAS</td>\n",
       "      <td>nassau</td>\n",
       "    </tr>\n",
       "    <tr>\n",
       "      <th>2</th>\n",
       "      <td>Seabourn Quest</td>\n",
       "      <td>C6YZ5</td>\n",
       "      <td>https://en.wikipedia.org/wiki/MV_Seabourn_Quest</td>\n",
       "      <td>9483126.0</td>\n",
       "      <td>311038900.0</td>\n",
       "      <td>Seabourn Cruise Line</td>\n",
       "      <td>Other</td>\n",
       "      <td>2011.0</td>\n",
       "      <td>Seabourn Odyssey class</td>\n",
       "      <td>32477.0</td>\n",
       "      <td>11.0</td>\n",
       "      <td>450.0</td>\n",
       "      <td>198.15</td>\n",
       "      <td>passengers ship</td>\n",
       "      <td>BAHAMAS</td>\n",
       "      <td>nassau</td>\n",
       "    </tr>\n",
       "    <tr>\n",
       "      <th>3</th>\n",
       "      <td>Oriana</td>\n",
       "      <td>ZCDU9</td>\n",
       "      <td>https://en.wikipedia.org/wiki/MV_Oriana_(1995)</td>\n",
       "      <td>9050137.0</td>\n",
       "      <td>310529000.0</td>\n",
       "      <td>P&amp;O Cruises</td>\n",
       "      <td>Other</td>\n",
       "      <td>1995.0</td>\n",
       "      <td>NaN</td>\n",
       "      <td>69840.0</td>\n",
       "      <td>10.0</td>\n",
       "      <td>NaN</td>\n",
       "      <td>260.00</td>\n",
       "      <td>passengers ship</td>\n",
       "      <td>BERMUDA</td>\n",
       "      <td>hamilton</td>\n",
       "    </tr>\n",
       "    <tr>\n",
       "      <th>4</th>\n",
       "      <td>European Causeway</td>\n",
       "      <td>C6RG7</td>\n",
       "      <td>https://en.wikipedia.org/wiki/MV_European_Caus...</td>\n",
       "      <td>9208394.0</td>\n",
       "      <td>311027000.0</td>\n",
       "      <td>P&amp;O Ferries</td>\n",
       "      <td>Other</td>\n",
       "      <td>2000.0</td>\n",
       "      <td>NaN</td>\n",
       "      <td>20646.0</td>\n",
       "      <td>NaN</td>\n",
       "      <td>410.0</td>\n",
       "      <td>156.20</td>\n",
       "      <td>ro</td>\n",
       "      <td>BAHAMAS</td>\n",
       "      <td>nassau</td>\n",
       "    </tr>\n",
       "  </tbody>\n",
       "</table>\n",
       "</div>"
      ],
      "text/plain": [
       "                name callsign  \\\n",
       "0          Wind Surf    C6IO6   \n",
       "1         Marco Polo    C6JZ7   \n",
       "2     Seabourn Quest    C6YZ5   \n",
       "3             Oriana    ZCDU9   \n",
       "4  European Causeway    C6RG7   \n",
       "\n",
       "                                                wiki        imo         mmsi  \\\n",
       "0     https://en.wikipedia.org/wiki/Wind_Surf_(ship)        NaN          NaN   \n",
       "1        https://en.wikipedia.org/wiki/MS_Marco_Polo  6417097.0  308693000.0   \n",
       "2    https://en.wikipedia.org/wiki/MV_Seabourn_Quest  9483126.0  311038900.0   \n",
       "3     https://en.wikipedia.org/wiki/MV_Oriana_(1995)  9050137.0  310529000.0   \n",
       "4  https://en.wikipedia.org/wiki/MV_European_Caus...  9208394.0  311027000.0   \n",
       "\n",
       "                                         cruise_line major_cruise_line  \\\n",
       "0  1990–1998: Club Med1998 onwards: Windstar Cruises             Other   \n",
       "1  1965–1980?: Baltic Shipping Company[1]1979?–19...             Other   \n",
       "2                               Seabourn Cruise Line             Other   \n",
       "3                                        P&O Cruises             Other   \n",
       "4                                        P&O Ferries             Other   \n",
       "\n",
       "   year_built                                           class  gross_tonnage  \\\n",
       "0      1990.0                                             NaN            NaN   \n",
       "1      1964.0  Ivan Franko-class passenger ship → Ocean liner        22080.0   \n",
       "2      2011.0                          Seabourn Odyssey class        32477.0   \n",
       "3      1995.0                                             NaN        69840.0   \n",
       "4      2000.0                                             NaN        20646.0   \n",
       "\n",
       "   decks  capacity  length      vessel_type     flag home_port  \n",
       "0    8.0     386.0  187.00              NaN      NaN       NaN  \n",
       "1    NaN     820.0  176.28  passengers ship  BAHAMAS    nassau  \n",
       "2   11.0     450.0  198.15  passengers ship  BAHAMAS    nassau  \n",
       "3   10.0       NaN  260.00  passengers ship  BERMUDA  hamilton  \n",
       "4    NaN     410.0  156.20               ro  BAHAMAS    nassau  "
      ]
     },
     "execution_count": 9,
     "metadata": {},
     "output_type": "execute_result"
    }
   ],
   "source": [
    "df_s.head()     ## ship.name is the index"
   ]
  },
  {
   "cell_type": "code",
   "execution_count": null,
   "metadata": {
    "collapsed": true
   },
   "outputs": [],
   "source": [
    "## it properly reads the ndash(utf) object ##"
   ]
  },
  {
   "cell_type": "code",
   "execution_count": null,
   "metadata": {
    "collapsed": true
   },
   "outputs": [],
   "source": []
  },
  {
   "cell_type": "code",
   "execution_count": null,
   "metadata": {
    "collapsed": true
   },
   "outputs": [],
   "source": [
    "##df_s.isnull().sum()   ## ships\n",
    "#name                   0  ## PK, FK\n",
    "#callsign               0\n",
    "#wiki                   9   URLS mainly\n",
    "#imo                   46   instant message \n",
    "#mmsi                  49   maritime mobile service identities\n",
    "#cruise_line           36\n",
    "#major_cruise_line      0\n",
    "#year_built            55\n",
    "#class                127\n",
    "#gross_tonnage         38\n",
    "#decks                110\n",
    "#capacity              66\n",
    "#length                93\n",
    "#vessel_type           46\n",
    "#flag                  47\n",
    "#home_port             85"
   ]
  },
  {
   "cell_type": "code",
   "execution_count": null,
   "metadata": {
    "collapsed": true
   },
   "outputs": [],
   "source": [
    "##df_c.isnull().sum()  ## cities\n",
    "#id              2  ## scrub top two  entries  PK,FK\n",
    "#city            0\n",
    "#country         4  ## scrub top four entries\n",
    "#country_code    4  ## same\n",
    "#lat             2  ## 2\n",
    "#lon             2\n",
    "#location        2"
   ]
  },
  {
   "cell_type": "code",
   "execution_count": null,
   "metadata": {
    "collapsed": true
   },
   "outputs": [],
   "source": [
    "##df_l.isnull().sum()   ## locations\n",
    "#ship_name            3130  ## PK,FK\n",
    "#callsign                0\n",
    "#major_cruise_line    3130\n",
    "#date                    0     object  s/b datetime\n",
    "#meters_traveled         0\n",
    "#lat_start               0\n",
    "#lon_start               0\n",
    "#lat_end                 0\n",
    "#lon_end                 0\n",
    "#in_port                 0\n",
    "#stopped_minutes         0   ## numeric   ( zero to ...)\n",
    "#num_periods             0   ## categorical (never zero, 1 to 49)\n",
    "#port_city_id         1228\n",
    "#port_city_name       1228\n",
    "#port_city_country    1823\n",
    "#df_l.dtypes"
   ]
  },
  {
   "cell_type": "code",
   "execution_count": 10,
   "metadata": {},
   "outputs": [
    {
     "data": {
      "text/plain": [
       "(518, 7)"
      ]
     },
     "execution_count": 10,
     "metadata": {},
     "output_type": "execute_result"
    }
   ],
   "source": [
    "df_c.shape          # 518, 7"
   ]
  },
  {
   "cell_type": "code",
   "execution_count": 11,
   "metadata": {},
   "outputs": [
    {
     "data": {
      "text/plain": [
       "(276, 16)"
      ]
     },
     "execution_count": 11,
     "metadata": {},
     "output_type": "execute_result"
    }
   ],
   "source": [
    "df_s.shape          # 276, 16"
   ]
  },
  {
   "cell_type": "code",
   "execution_count": 12,
   "metadata": {},
   "outputs": [
    {
     "name": "stdout",
     "output_type": "stream",
     "text": [
      "(503207, 15)\n"
     ]
    },
    {
     "data": {
      "text/plain": [
       "56862471"
      ]
     },
     "execution_count": 12,
     "metadata": {},
     "output_type": "execute_result"
    }
   ],
   "source": [
    "print( df_l.shape)                      # 503207, 15\n",
    "df_l.memory_usage(index=True).sum()   # 56.8MegBytes"
   ]
  },
  {
   "cell_type": "code",
   "execution_count": null,
   "metadata": {
    "collapsed": true
   },
   "outputs": [],
   "source": [
    "## Questions/ Thoughts ??\n",
    "## What about cost per trip    ## Can I get price from another source\n",
    "## Ship's average performance  ## Is it highly utilized, or under utilized?\n",
    "## Ship's lifespan             ## How long do they last, or how quickly they retire?\n",
    "## Is Ship's performance linked to their stock quote? ## yahoo-finance to get that data?\n"
   ]
  },
  {
   "cell_type": "code",
   "execution_count": null,
   "metadata": {
    "collapsed": true
   },
   "outputs": [],
   "source": [
    "## problems ##\n",
    "# Tableau <!> Internal Error - An unexpected error occurred and the opperation could not be completed. \n",
    "# [Show Details]\n",
    "# Watson Analytics has 65 medium quality (rating)"
   ]
  },
  {
   "cell_type": "code",
   "execution_count": null,
   "metadata": {
    "collapsed": true
   },
   "outputs": [],
   "source": [
    "# this URL for distance formulas:   http://www.movable-type.co.uk/scripts/latlong.html\n",
    "# cool map and downloaded the code:  https://www.tytai.com/gmap/distance/"
   ]
  },
  {
   "cell_type": "code",
   "execution_count": null,
   "metadata": {
    "collapsed": true
   },
   "outputs": [],
   "source": [
    "# his Blog\n",
    "# 1) which cruise line running the most ships?   Royal_Carabbean=25 CCL=24 Norwegian=16\n",
    "# 2) how many Day/Ship combinations are missing data ?  83K\n",
    "# 3) Most popular Ports?   Ft. Laud=3705, Vancouver=3236, Cozumel=3074,  Galveston?  Houston?  New Orleans?"
   ]
  },
  {
   "cell_type": "code",
   "execution_count": 13,
   "metadata": {
    "collapsed": true
   },
   "outputs": [],
   "source": [
    "# merge ships and locations\n",
    "#df_l = pd.merge(df_l,df_s, left_on='ship_name', right_on='name')\n",
    "## end up with callsign_x/y   and major_cruise_line_x/y (MORE CLEANUP)\n",
    "df_l = pd.merge(df_l,df_s.rename(columns={'callsign': 'callsign_id', 'major_cruise_line': 'major_cruise_line_id'}), left_on='ship_name', right_on='name')\n"
   ]
  },
  {
   "cell_type": "code",
   "execution_count": 14,
   "metadata": {
    "collapsed": true
   },
   "outputs": [],
   "source": [
    "df_l.drop('callsign_id',         axis=1, inplace=True)\n",
    "df_l.drop('major_cruise_line_id',axis=1, inplace=True)\n",
    "df_l.drop('home_port',           axis=1, inplace=True)   # too much NaN data"
   ]
  },
  {
   "cell_type": "code",
   "execution_count": 15,
   "metadata": {},
   "outputs": [
    {
     "name": "stdout",
     "output_type": "stream",
     "text": [
      "(506377, 28)\n"
     ]
    },
    {
     "data": {
      "text/html": [
       "<div>\n",
       "<style>\n",
       "    .dataframe thead tr:only-child th {\n",
       "        text-align: right;\n",
       "    }\n",
       "\n",
       "    .dataframe thead th {\n",
       "        text-align: left;\n",
       "    }\n",
       "\n",
       "    .dataframe tbody tr th {\n",
       "        vertical-align: top;\n",
       "    }\n",
       "</style>\n",
       "<table border=\"1\" class=\"dataframe\">\n",
       "  <thead>\n",
       "    <tr style=\"text-align: right;\">\n",
       "      <th></th>\n",
       "      <th>ship_name</th>\n",
       "      <th>callsign</th>\n",
       "      <th>major_cruise_line</th>\n",
       "      <th>date</th>\n",
       "      <th>meters_traveled</th>\n",
       "      <th>lat_start</th>\n",
       "      <th>lon_start</th>\n",
       "      <th>lat_end</th>\n",
       "      <th>lon_end</th>\n",
       "      <th>in_port</th>\n",
       "      <th>...</th>\n",
       "      <th>mmsi</th>\n",
       "      <th>cruise_line</th>\n",
       "      <th>year_built</th>\n",
       "      <th>class</th>\n",
       "      <th>gross_tonnage</th>\n",
       "      <th>decks</th>\n",
       "      <th>capacity</th>\n",
       "      <th>length</th>\n",
       "      <th>vessel_type</th>\n",
       "      <th>flag</th>\n",
       "    </tr>\n",
       "  </thead>\n",
       "  <tbody>\n",
       "    <tr>\n",
       "      <th>0</th>\n",
       "      <td>Carnival Splendor</td>\n",
       "      <td>3EUS</td>\n",
       "      <td>Carnival Cruise Line</td>\n",
       "      <td>2013-10-24</td>\n",
       "      <td>147030.321045</td>\n",
       "      <td>39.1000</td>\n",
       "      <td>-73.8000</td>\n",
       "      <td>40.4207</td>\n",
       "      <td>-73.7793</td>\n",
       "      <td>True</td>\n",
       "      <td>...</td>\n",
       "      <td>372808000.0</td>\n",
       "      <td>Carnival Cruise Lines</td>\n",
       "      <td>2008.0</td>\n",
       "      <td>Splendor-class cruise ship</td>\n",
       "      <td>113562.0</td>\n",
       "      <td>13.0</td>\n",
       "      <td>3006.0</td>\n",
       "      <td>290.0</td>\n",
       "      <td>passengers ship</td>\n",
       "      <td>PANAMA</td>\n",
       "    </tr>\n",
       "    <tr>\n",
       "      <th>1</th>\n",
       "      <td>Carnival Splendor</td>\n",
       "      <td>3EUS</td>\n",
       "      <td>Carnival Cruise Line</td>\n",
       "      <td>2015-12-14</td>\n",
       "      <td>0.000000</td>\n",
       "      <td>25.3662</td>\n",
       "      <td>-79.9476</td>\n",
       "      <td>25.3662</td>\n",
       "      <td>-79.9476</td>\n",
       "      <td>False</td>\n",
       "      <td>...</td>\n",
       "      <td>372808000.0</td>\n",
       "      <td>Carnival Cruise Lines</td>\n",
       "      <td>2008.0</td>\n",
       "      <td>Splendor-class cruise ship</td>\n",
       "      <td>113562.0</td>\n",
       "      <td>13.0</td>\n",
       "      <td>3006.0</td>\n",
       "      <td>290.0</td>\n",
       "      <td>passengers ship</td>\n",
       "      <td>PANAMA</td>\n",
       "    </tr>\n",
       "    <tr>\n",
       "      <th>2</th>\n",
       "      <td>Carnival Splendor</td>\n",
       "      <td>3EUS</td>\n",
       "      <td>Carnival Cruise Line</td>\n",
       "      <td>2017-01-22</td>\n",
       "      <td>304820.653095</td>\n",
       "      <td>22.9000</td>\n",
       "      <td>-78.8000</td>\n",
       "      <td>25.4292</td>\n",
       "      <td>-79.9503</td>\n",
       "      <td>True</td>\n",
       "      <td>...</td>\n",
       "      <td>372808000.0</td>\n",
       "      <td>Carnival Cruise Lines</td>\n",
       "      <td>2008.0</td>\n",
       "      <td>Splendor-class cruise ship</td>\n",
       "      <td>113562.0</td>\n",
       "      <td>13.0</td>\n",
       "      <td>3006.0</td>\n",
       "      <td>290.0</td>\n",
       "      <td>passengers ship</td>\n",
       "      <td>PANAMA</td>\n",
       "    </tr>\n",
       "    <tr>\n",
       "      <th>3</th>\n",
       "      <td>Carnival Splendor</td>\n",
       "      <td>3EUS</td>\n",
       "      <td>Carnival Cruise Line</td>\n",
       "      <td>2014-12-24</td>\n",
       "      <td>14634.546541</td>\n",
       "      <td>20.6046</td>\n",
       "      <td>-86.9222</td>\n",
       "      <td>20.4845</td>\n",
       "      <td>-86.9793</td>\n",
       "      <td>True</td>\n",
       "      <td>...</td>\n",
       "      <td>372808000.0</td>\n",
       "      <td>Carnival Cruise Lines</td>\n",
       "      <td>2008.0</td>\n",
       "      <td>Splendor-class cruise ship</td>\n",
       "      <td>113562.0</td>\n",
       "      <td>13.0</td>\n",
       "      <td>3006.0</td>\n",
       "      <td>290.0</td>\n",
       "      <td>passengers ship</td>\n",
       "      <td>PANAMA</td>\n",
       "    </tr>\n",
       "    <tr>\n",
       "      <th>4</th>\n",
       "      <td>Carnival Splendor</td>\n",
       "      <td>3EUS</td>\n",
       "      <td>Carnival Cruise Line</td>\n",
       "      <td>2014-09-11</td>\n",
       "      <td>230024.991854</td>\n",
       "      <td>43.2000</td>\n",
       "      <td>-65.8000</td>\n",
       "      <td>44.3935</td>\n",
       "      <td>-63.4628</td>\n",
       "      <td>True</td>\n",
       "      <td>...</td>\n",
       "      <td>372808000.0</td>\n",
       "      <td>Carnival Cruise Lines</td>\n",
       "      <td>2008.0</td>\n",
       "      <td>Splendor-class cruise ship</td>\n",
       "      <td>113562.0</td>\n",
       "      <td>13.0</td>\n",
       "      <td>3006.0</td>\n",
       "      <td>290.0</td>\n",
       "      <td>passengers ship</td>\n",
       "      <td>PANAMA</td>\n",
       "    </tr>\n",
       "  </tbody>\n",
       "</table>\n",
       "<p>5 rows × 28 columns</p>\n",
       "</div>"
      ],
      "text/plain": [
       "           ship_name callsign     major_cruise_line        date  \\\n",
       "0  Carnival Splendor     3EUS  Carnival Cruise Line  2013-10-24   \n",
       "1  Carnival Splendor     3EUS  Carnival Cruise Line  2015-12-14   \n",
       "2  Carnival Splendor     3EUS  Carnival Cruise Line  2017-01-22   \n",
       "3  Carnival Splendor     3EUS  Carnival Cruise Line  2014-12-24   \n",
       "4  Carnival Splendor     3EUS  Carnival Cruise Line  2014-09-11   \n",
       "\n",
       "   meters_traveled  lat_start  lon_start  lat_end  lon_end  in_port   ...    \\\n",
       "0    147030.321045    39.1000   -73.8000  40.4207 -73.7793     True   ...     \n",
       "1         0.000000    25.3662   -79.9476  25.3662 -79.9476    False   ...     \n",
       "2    304820.653095    22.9000   -78.8000  25.4292 -79.9503     True   ...     \n",
       "3     14634.546541    20.6046   -86.9222  20.4845 -86.9793     True   ...     \n",
       "4    230024.991854    43.2000   -65.8000  44.3935 -63.4628     True   ...     \n",
       "\n",
       "          mmsi            cruise_line year_built                       class  \\\n",
       "0  372808000.0  Carnival Cruise Lines     2008.0  Splendor-class cruise ship   \n",
       "1  372808000.0  Carnival Cruise Lines     2008.0  Splendor-class cruise ship   \n",
       "2  372808000.0  Carnival Cruise Lines     2008.0  Splendor-class cruise ship   \n",
       "3  372808000.0  Carnival Cruise Lines     2008.0  Splendor-class cruise ship   \n",
       "4  372808000.0  Carnival Cruise Lines     2008.0  Splendor-class cruise ship   \n",
       "\n",
       "  gross_tonnage decks capacity  length      vessel_type    flag  \n",
       "0      113562.0  13.0   3006.0   290.0  passengers ship  PANAMA  \n",
       "1      113562.0  13.0   3006.0   290.0  passengers ship  PANAMA  \n",
       "2      113562.0  13.0   3006.0   290.0  passengers ship  PANAMA  \n",
       "3      113562.0  13.0   3006.0   290.0  passengers ship  PANAMA  \n",
       "4      113562.0  13.0   3006.0   290.0  passengers ship  PANAMA  \n",
       "\n",
       "[5 rows x 28 columns]"
      ]
     },
     "execution_count": 15,
     "metadata": {},
     "output_type": "execute_result"
    }
   ],
   "source": [
    "# merge cities  (no need)\n",
    "#df_l = pd.merge(df_l,df_c.rename(columns={'port_city_id': 'id', 'id': 'city_id'}), on='city_id')\n",
    "print( df_l.shape )        ## 506377, 28\n",
    "df_l.head()"
   ]
  },
  {
   "cell_type": "code",
   "execution_count": 16,
   "metadata": {},
   "outputs": [
    {
     "data": {
      "text/html": [
       "<div>\n",
       "<style>\n",
       "    .dataframe thead tr:only-child th {\n",
       "        text-align: right;\n",
       "    }\n",
       "\n",
       "    .dataframe thead th {\n",
       "        text-align: left;\n",
       "    }\n",
       "\n",
       "    .dataframe tbody tr th {\n",
       "        vertical-align: top;\n",
       "    }\n",
       "</style>\n",
       "<table border=\"1\" class=\"dataframe\">\n",
       "  <thead>\n",
       "    <tr style=\"text-align: right;\">\n",
       "      <th></th>\n",
       "      <th>ship_name</th>\n",
       "    </tr>\n",
       "    <tr>\n",
       "      <th>major_cruise_line</th>\n",
       "      <th></th>\n",
       "    </tr>\n",
       "  </thead>\n",
       "  <tbody>\n",
       "    <tr>\n",
       "      <th>Other</th>\n",
       "      <td>146</td>\n",
       "    </tr>\n",
       "    <tr>\n",
       "      <th>Royal Caribbean International</th>\n",
       "      <td>25</td>\n",
       "    </tr>\n",
       "    <tr>\n",
       "      <th>Carnival Cruise Line</th>\n",
       "      <td>23</td>\n",
       "    </tr>\n",
       "    <tr>\n",
       "      <th>Norwegian Cruise Line</th>\n",
       "      <td>16</td>\n",
       "    </tr>\n",
       "    <tr>\n",
       "      <th>Holland America Line</th>\n",
       "      <td>15</td>\n",
       "    </tr>\n",
       "    <tr>\n",
       "      <th>Costa Crociere</th>\n",
       "      <td>14</td>\n",
       "    </tr>\n",
       "    <tr>\n",
       "      <th>Princess Cruises</th>\n",
       "      <td>14</td>\n",
       "    </tr>\n",
       "    <tr>\n",
       "      <th>Celebrity Cruises</th>\n",
       "      <td>11</td>\n",
       "    </tr>\n",
       "    <tr>\n",
       "      <th>Silversea Cruises</th>\n",
       "      <td>4</td>\n",
       "    </tr>\n",
       "    <tr>\n",
       "      <th>Disney Cruises</th>\n",
       "      <td>3</td>\n",
       "    </tr>\n",
       "  </tbody>\n",
       "</table>\n",
       "</div>"
      ],
      "text/plain": [
       "                               ship_name\n",
       "major_cruise_line                       \n",
       "Other                                146\n",
       "Royal Caribbean International         25\n",
       "Carnival Cruise Line                  23\n",
       "Norwegian Cruise Line                 16\n",
       "Holland America Line                  15\n",
       "Costa Crociere                        14\n",
       "Princess Cruises                      14\n",
       "Celebrity Cruises                     11\n",
       "Silversea Cruises                      4\n",
       "Disney Cruises                         3"
      ]
     },
     "execution_count": 16,
     "metadata": {},
     "output_type": "execute_result"
    }
   ],
   "source": [
    "#df_l['ship_name'].groupby(df_l['major_cruise_line_x']).value_counts()    # not sorted\n",
    "#df_l['ship_name'].groupby(df_l['major_cruise_line_x']).count()\n",
    "#df_l.loc[:,['ship_name','major_cruise_line_x']].head()\n",
    "#df_l.loc[:,['ship_name','major_cruise_line_x']].groupby('major_cruise_line_x').head()\n",
    "#df_l.loc[:,['ship_name','major_cruise_line_x']].drop_duplicates('ship_name').groupby('major_cruise_line_x').head()\n",
    "df_l.loc[:,['ship_name','major_cruise_line']].drop_duplicates('ship_name').groupby('major_cruise_line').count().sort_values('ship_name',ascending=False)       \n",
    "\n",
    "# Other    ## 146  (huge) fix with cleanup\n",
    "# Royal    ## 25\n",
    "# CCL      ## 23\n",
    "# Norwegian## 16\n",
    "# Holland  ## 15"
   ]
  },
  {
   "cell_type": "code",
   "execution_count": 17,
   "metadata": {},
   "outputs": [
    {
     "data": {
      "text/html": [
       "<div>\n",
       "<style>\n",
       "    .dataframe thead tr:only-child th {\n",
       "        text-align: right;\n",
       "    }\n",
       "\n",
       "    .dataframe thead th {\n",
       "        text-align: left;\n",
       "    }\n",
       "\n",
       "    .dataframe tbody tr th {\n",
       "        vertical-align: top;\n",
       "    }\n",
       "</style>\n",
       "<table border=\"1\" class=\"dataframe\">\n",
       "  <thead>\n",
       "    <tr style=\"text-align: right;\">\n",
       "      <th></th>\n",
       "      <th>ship_name</th>\n",
       "      <th>major_cruise_line</th>\n",
       "    </tr>\n",
       "  </thead>\n",
       "  <tbody>\n",
       "    <tr>\n",
       "      <th>315409</th>\n",
       "      <td>Adventure of The Seas</td>\n",
       "      <td>Royal Caribbean International</td>\n",
       "    </tr>\n",
       "    <tr>\n",
       "      <th>373243</th>\n",
       "      <td>Allure of the Seas</td>\n",
       "      <td>Royal Caribbean International</td>\n",
       "    </tr>\n",
       "    <tr>\n",
       "      <th>228855</th>\n",
       "      <td>Anthem Of The Seas</td>\n",
       "      <td>Royal Caribbean International</td>\n",
       "    </tr>\n",
       "    <tr>\n",
       "      <th>328394</th>\n",
       "      <td>Brilliance Of The Seas</td>\n",
       "      <td>Royal Caribbean International</td>\n",
       "    </tr>\n",
       "    <tr>\n",
       "      <th>275394</th>\n",
       "      <td>Enchantment of the Seas</td>\n",
       "      <td>Royal Caribbean International</td>\n",
       "    </tr>\n",
       "    <tr>\n",
       "      <th>320460</th>\n",
       "      <td>Explorer Of The Seas</td>\n",
       "      <td>Royal Caribbean International</td>\n",
       "    </tr>\n",
       "    <tr>\n",
       "      <th>349195</th>\n",
       "      <td>Freedom of the Seas</td>\n",
       "      <td>Royal Caribbean International</td>\n",
       "    </tr>\n",
       "    <tr>\n",
       "      <th>317868</th>\n",
       "      <td>Grandeur Of The Seas</td>\n",
       "      <td>Royal Caribbean International</td>\n",
       "    </tr>\n",
       "    <tr>\n",
       "      <th>365174</th>\n",
       "      <td>Independence of the Seas</td>\n",
       "      <td>Royal Caribbean International</td>\n",
       "    </tr>\n",
       "    <tr>\n",
       "      <th>329968</th>\n",
       "      <td>Island Escape</td>\n",
       "      <td>Royal Caribbean International</td>\n",
       "    </tr>\n",
       "    <tr>\n",
       "      <th>273986</th>\n",
       "      <td>Jewel Of The Seas</td>\n",
       "      <td>Royal Caribbean International</td>\n",
       "    </tr>\n",
       "    <tr>\n",
       "      <th>331300</th>\n",
       "      <td>Legend Of The Seas</td>\n",
       "      <td>Royal Caribbean International</td>\n",
       "    </tr>\n",
       "    <tr>\n",
       "      <th>356756</th>\n",
       "      <td>Liberty of The Seas</td>\n",
       "      <td>Royal Caribbean International</td>\n",
       "    </tr>\n",
       "    <tr>\n",
       "      <th>277363</th>\n",
       "      <td>Majesty of the Seas</td>\n",
       "      <td>Royal Caribbean International</td>\n",
       "    </tr>\n",
       "    <tr>\n",
       "      <th>271468</th>\n",
       "      <td>Mariner Of The Seas</td>\n",
       "      <td>Royal Caribbean International</td>\n",
       "    </tr>\n",
       "    <tr>\n",
       "      <th>267021</th>\n",
       "      <td>Navigator Of The Seas</td>\n",
       "      <td>Royal Caribbean International</td>\n",
       "    </tr>\n",
       "    <tr>\n",
       "      <th>371754</th>\n",
       "      <td>Oasis of the Seas</td>\n",
       "      <td>Royal Caribbean International</td>\n",
       "    </tr>\n",
       "    <tr>\n",
       "      <th>228193</th>\n",
       "      <td>Quantum Of The Seas</td>\n",
       "      <td>Royal Caribbean International</td>\n",
       "    </tr>\n",
       "    <tr>\n",
       "      <th>324168</th>\n",
       "      <td>Radiance Of The Seas</td>\n",
       "      <td>Royal Caribbean International</td>\n",
       "    </tr>\n",
       "    <tr>\n",
       "      <th>347137</th>\n",
       "      <td>Rhapsody Of The Seas</td>\n",
       "      <td>Royal Caribbean International</td>\n",
       "    </tr>\n",
       "    <tr>\n",
       "      <th>269880</th>\n",
       "      <td>Serenade Of The Seas</td>\n",
       "      <td>Royal Caribbean International</td>\n",
       "    </tr>\n",
       "    <tr>\n",
       "      <th>223339</th>\n",
       "      <td>Sovereign</td>\n",
       "      <td>Royal Caribbean International</td>\n",
       "    </tr>\n",
       "    <tr>\n",
       "      <th>344575</th>\n",
       "      <td>Splendour Of The Seas</td>\n",
       "      <td>Royal Caribbean International</td>\n",
       "    </tr>\n",
       "    <tr>\n",
       "      <th>326226</th>\n",
       "      <td>Vision of The Seas</td>\n",
       "      <td>Royal Caribbean International</td>\n",
       "    </tr>\n",
       "    <tr>\n",
       "      <th>322301</th>\n",
       "      <td>Voyager Of The Seas</td>\n",
       "      <td>Royal Caribbean International</td>\n",
       "    </tr>\n",
       "  </tbody>\n",
       "</table>\n",
       "</div>"
      ],
      "text/plain": [
       "                       ship_name              major_cruise_line\n",
       "315409     Adventure of The Seas  Royal Caribbean International\n",
       "373243        Allure of the Seas  Royal Caribbean International\n",
       "228855        Anthem Of The Seas  Royal Caribbean International\n",
       "328394    Brilliance Of The Seas  Royal Caribbean International\n",
       "275394   Enchantment of the Seas  Royal Caribbean International\n",
       "320460      Explorer Of The Seas  Royal Caribbean International\n",
       "349195       Freedom of the Seas  Royal Caribbean International\n",
       "317868      Grandeur Of The Seas  Royal Caribbean International\n",
       "365174  Independence of the Seas  Royal Caribbean International\n",
       "329968             Island Escape  Royal Caribbean International\n",
       "273986         Jewel Of The Seas  Royal Caribbean International\n",
       "331300        Legend Of The Seas  Royal Caribbean International\n",
       "356756       Liberty of The Seas  Royal Caribbean International\n",
       "277363       Majesty of the Seas  Royal Caribbean International\n",
       "271468       Mariner Of The Seas  Royal Caribbean International\n",
       "267021     Navigator Of The Seas  Royal Caribbean International\n",
       "371754         Oasis of the Seas  Royal Caribbean International\n",
       "228193       Quantum Of The Seas  Royal Caribbean International\n",
       "324168      Radiance Of The Seas  Royal Caribbean International\n",
       "347137      Rhapsody Of The Seas  Royal Caribbean International\n",
       "269880      Serenade Of The Seas  Royal Caribbean International\n",
       "223339                 Sovereign  Royal Caribbean International\n",
       "344575     Splendour Of The Seas  Royal Caribbean International\n",
       "326226        Vision of The Seas  Royal Caribbean International\n",
       "322301       Voyager Of The Seas  Royal Caribbean International"
      ]
     },
     "execution_count": 17,
     "metadata": {},
     "output_type": "execute_result"
    }
   ],
   "source": [
    "df_l.loc[:,['ship_name','major_cruise_line']].drop_duplicates('ship_name').loc[df_l['major_cruise_line'] =='Royal Caribbean International'].sort_values('ship_name')   \n",
    "## 25"
   ]
  },
  {
   "cell_type": "code",
   "execution_count": 18,
   "metadata": {},
   "outputs": [
    {
     "data": {
      "text/html": [
       "<div>\n",
       "<style>\n",
       "    .dataframe thead tr:only-child th {\n",
       "        text-align: right;\n",
       "    }\n",
       "\n",
       "    .dataframe thead th {\n",
       "        text-align: left;\n",
       "    }\n",
       "\n",
       "    .dataframe tbody tr th {\n",
       "        vertical-align: top;\n",
       "    }\n",
       "</style>\n",
       "<table border=\"1\" class=\"dataframe\">\n",
       "  <thead>\n",
       "    <tr style=\"text-align: right;\">\n",
       "      <th></th>\n",
       "      <th>ship_name</th>\n",
       "      <th>major_cruise_line</th>\n",
       "    </tr>\n",
       "  </thead>\n",
       "  <tbody>\n",
       "    <tr>\n",
       "      <th>179805</th>\n",
       "      <td>Carnival Conquest</td>\n",
       "      <td>Carnival Cruise Line</td>\n",
       "    </tr>\n",
       "    <tr>\n",
       "      <th>248239</th>\n",
       "      <td>Carnival Destiny</td>\n",
       "      <td>Carnival Cruise Line</td>\n",
       "    </tr>\n",
       "    <tr>\n",
       "      <th>161693</th>\n",
       "      <td>Carnival Freedom</td>\n",
       "      <td>Carnival Cruise Line</td>\n",
       "    </tr>\n",
       "    <tr>\n",
       "      <th>186635</th>\n",
       "      <td>Carnival Glory</td>\n",
       "      <td>Carnival Cruise Line</td>\n",
       "    </tr>\n",
       "    <tr>\n",
       "      <th>47480</th>\n",
       "      <td>Carnival Legend</td>\n",
       "      <td>Carnival Cruise Line</td>\n",
       "    </tr>\n",
       "    <tr>\n",
       "      <th>54460</th>\n",
       "      <td>Carnival Liberty</td>\n",
       "      <td>Carnival Cruise Line</td>\n",
       "    </tr>\n",
       "    <tr>\n",
       "      <th>45189</th>\n",
       "      <td>Carnival Miracle</td>\n",
       "      <td>Carnival Cruise Line</td>\n",
       "    </tr>\n",
       "    <tr>\n",
       "      <th>49349</th>\n",
       "      <td>Carnival Pride</td>\n",
       "      <td>Carnival Cruise Line</td>\n",
       "    </tr>\n",
       "    <tr>\n",
       "      <th>182639</th>\n",
       "      <td>Carnival Spirit</td>\n",
       "      <td>Carnival Cruise Line</td>\n",
       "    </tr>\n",
       "    <tr>\n",
       "      <th>0</th>\n",
       "      <td>Carnival Splendor</td>\n",
       "      <td>Carnival Cruise Line</td>\n",
       "    </tr>\n",
       "    <tr>\n",
       "      <th>250852</th>\n",
       "      <td>Carnival Triumph</td>\n",
       "      <td>Carnival Cruise Line</td>\n",
       "    </tr>\n",
       "    <tr>\n",
       "      <th>42632</th>\n",
       "      <td>Carnival Valor</td>\n",
       "      <td>Carnival Cruise Line</td>\n",
       "    </tr>\n",
       "    <tr>\n",
       "      <th>166866</th>\n",
       "      <td>Carnival Victory</td>\n",
       "      <td>Carnival Cruise Line</td>\n",
       "    </tr>\n",
       "    <tr>\n",
       "      <th>164091</th>\n",
       "      <td>Carnival Vista</td>\n",
       "      <td>Carnival Cruise Line</td>\n",
       "    </tr>\n",
       "    <tr>\n",
       "      <th>37471</th>\n",
       "      <td>Ecstasy</td>\n",
       "      <td>Carnival Cruise Line</td>\n",
       "    </tr>\n",
       "    <tr>\n",
       "      <th>176981</th>\n",
       "      <td>Elation</td>\n",
       "      <td>Carnival Cruise Line</td>\n",
       "    </tr>\n",
       "    <tr>\n",
       "      <th>40247</th>\n",
       "      <td>Fantasy</td>\n",
       "      <td>Carnival Cruise Line</td>\n",
       "    </tr>\n",
       "    <tr>\n",
       "      <th>243510</th>\n",
       "      <td>Fascination</td>\n",
       "      <td>Carnival Cruise Line</td>\n",
       "    </tr>\n",
       "    <tr>\n",
       "      <th>245447</th>\n",
       "      <td>Imagination</td>\n",
       "      <td>Carnival Cruise Line</td>\n",
       "    </tr>\n",
       "    <tr>\n",
       "      <th>237875</th>\n",
       "      <td>Inspiration</td>\n",
       "      <td>Carnival Cruise Line</td>\n",
       "    </tr>\n",
       "    <tr>\n",
       "      <th>489940</th>\n",
       "      <td>Pacific Sun</td>\n",
       "      <td>Carnival Cruise Line</td>\n",
       "    </tr>\n",
       "    <tr>\n",
       "      <th>174147</th>\n",
       "      <td>Paradise</td>\n",
       "      <td>Carnival Cruise Line</td>\n",
       "    </tr>\n",
       "    <tr>\n",
       "      <th>241039</th>\n",
       "      <td>Sensation</td>\n",
       "      <td>Carnival Cruise Line</td>\n",
       "    </tr>\n",
       "  </tbody>\n",
       "</table>\n",
       "</div>"
      ],
      "text/plain": [
       "                ship_name     major_cruise_line\n",
       "179805  Carnival Conquest  Carnival Cruise Line\n",
       "248239   Carnival Destiny  Carnival Cruise Line\n",
       "161693   Carnival Freedom  Carnival Cruise Line\n",
       "186635     Carnival Glory  Carnival Cruise Line\n",
       "47480     Carnival Legend  Carnival Cruise Line\n",
       "54460    Carnival Liberty  Carnival Cruise Line\n",
       "45189    Carnival Miracle  Carnival Cruise Line\n",
       "49349      Carnival Pride  Carnival Cruise Line\n",
       "182639    Carnival Spirit  Carnival Cruise Line\n",
       "0       Carnival Splendor  Carnival Cruise Line\n",
       "250852   Carnival Triumph  Carnival Cruise Line\n",
       "42632      Carnival Valor  Carnival Cruise Line\n",
       "166866   Carnival Victory  Carnival Cruise Line\n",
       "164091     Carnival Vista  Carnival Cruise Line\n",
       "37471             Ecstasy  Carnival Cruise Line\n",
       "176981            Elation  Carnival Cruise Line\n",
       "40247             Fantasy  Carnival Cruise Line\n",
       "243510        Fascination  Carnival Cruise Line\n",
       "245447        Imagination  Carnival Cruise Line\n",
       "237875        Inspiration  Carnival Cruise Line\n",
       "489940        Pacific Sun  Carnival Cruise Line\n",
       "174147           Paradise  Carnival Cruise Line\n",
       "241039          Sensation  Carnival Cruise Line"
      ]
     },
     "execution_count": 18,
     "metadata": {},
     "output_type": "execute_result"
    }
   ],
   "source": [
    "\n",
    "df_l.loc[:,['ship_name','major_cruise_line']].drop_duplicates('ship_name').loc[df_l['major_cruise_line'] =='Carnival Cruise Line'].sort_values('ship_name')\n",
    "## 23"
   ]
  },
  {
   "cell_type": "code",
   "execution_count": 19,
   "metadata": {},
   "outputs": [
    {
     "data": {
      "text/html": [
       "<div>\n",
       "<style>\n",
       "    .dataframe thead tr:only-child th {\n",
       "        text-align: right;\n",
       "    }\n",
       "\n",
       "    .dataframe thead th {\n",
       "        text-align: left;\n",
       "    }\n",
       "\n",
       "    .dataframe tbody tr th {\n",
       "        vertical-align: top;\n",
       "    }\n",
       "</style>\n",
       "<table border=\"1\" class=\"dataframe\">\n",
       "  <thead>\n",
       "    <tr style=\"text-align: right;\">\n",
       "      <th></th>\n",
       "      <th>ship_name</th>\n",
       "      <th>major_cruise_line</th>\n",
       "    </tr>\n",
       "  </thead>\n",
       "  <tbody>\n",
       "    <tr>\n",
       "      <th>231174</th>\n",
       "      <td>Albatros</td>\n",
       "      <td>Norwegian Cruise Line</td>\n",
       "    </tr>\n",
       "    <tr>\n",
       "      <th>34524</th>\n",
       "      <td>Balmoral</td>\n",
       "      <td>Norwegian Cruise Line</td>\n",
       "    </tr>\n",
       "    <tr>\n",
       "      <th>379596</th>\n",
       "      <td>Norwegian Breakaway</td>\n",
       "      <td>Norwegian Cruise Line</td>\n",
       "    </tr>\n",
       "    <tr>\n",
       "      <th>279459</th>\n",
       "      <td>Norwegian Crown</td>\n",
       "      <td>Norwegian Cruise Line</td>\n",
       "    </tr>\n",
       "    <tr>\n",
       "      <th>263994</th>\n",
       "      <td>Norwegian Dawn</td>\n",
       "      <td>Norwegian Cruise Line</td>\n",
       "    </tr>\n",
       "    <tr>\n",
       "      <th>286427</th>\n",
       "      <td>Norwegian Dream</td>\n",
       "      <td>Norwegian Cruise Line</td>\n",
       "    </tr>\n",
       "    <tr>\n",
       "      <th>369704</th>\n",
       "      <td>Norwegian Epic</td>\n",
       "      <td>Norwegian Cruise Line</td>\n",
       "    </tr>\n",
       "    <tr>\n",
       "      <th>353697</th>\n",
       "      <td>Norwegian Gem</td>\n",
       "      <td>Norwegian Cruise Line</td>\n",
       "    </tr>\n",
       "    <tr>\n",
       "      <th>380540</th>\n",
       "      <td>Norwegian Getaway</td>\n",
       "      <td>Norwegian Cruise Line</td>\n",
       "    </tr>\n",
       "    <tr>\n",
       "      <th>341899</th>\n",
       "      <td>Norwegian Jewel</td>\n",
       "      <td>Norwegian Cruise Line</td>\n",
       "    </tr>\n",
       "    <tr>\n",
       "      <th>350585</th>\n",
       "      <td>Norwegian Pearl</td>\n",
       "      <td>Norwegian Cruise Line</td>\n",
       "    </tr>\n",
       "    <tr>\n",
       "      <th>233621</th>\n",
       "      <td>Norwegian Sea</td>\n",
       "      <td>Norwegian Cruise Line</td>\n",
       "    </tr>\n",
       "    <tr>\n",
       "      <th>300551</th>\n",
       "      <td>Norwegian Sky</td>\n",
       "      <td>Norwegian Cruise Line</td>\n",
       "    </tr>\n",
       "    <tr>\n",
       "      <th>338602</th>\n",
       "      <td>Norwegian Spirit</td>\n",
       "      <td>Norwegian Cruise Line</td>\n",
       "    </tr>\n",
       "    <tr>\n",
       "      <th>256504</th>\n",
       "      <td>Norwegian Star</td>\n",
       "      <td>Norwegian Cruise Line</td>\n",
       "    </tr>\n",
       "    <tr>\n",
       "      <th>311399</th>\n",
       "      <td>Norwegian Sun</td>\n",
       "      <td>Norwegian Cruise Line</td>\n",
       "    </tr>\n",
       "  </tbody>\n",
       "</table>\n",
       "</div>"
      ],
      "text/plain": [
       "                  ship_name      major_cruise_line\n",
       "231174             Albatros  Norwegian Cruise Line\n",
       "34524              Balmoral  Norwegian Cruise Line\n",
       "379596  Norwegian Breakaway  Norwegian Cruise Line\n",
       "279459      Norwegian Crown  Norwegian Cruise Line\n",
       "263994       Norwegian Dawn  Norwegian Cruise Line\n",
       "286427      Norwegian Dream  Norwegian Cruise Line\n",
       "369704       Norwegian Epic  Norwegian Cruise Line\n",
       "353697        Norwegian Gem  Norwegian Cruise Line\n",
       "380540    Norwegian Getaway  Norwegian Cruise Line\n",
       "341899      Norwegian Jewel  Norwegian Cruise Line\n",
       "350585      Norwegian Pearl  Norwegian Cruise Line\n",
       "233621        Norwegian Sea  Norwegian Cruise Line\n",
       "300551        Norwegian Sky  Norwegian Cruise Line\n",
       "338602     Norwegian Spirit  Norwegian Cruise Line\n",
       "256504       Norwegian Star  Norwegian Cruise Line\n",
       "311399        Norwegian Sun  Norwegian Cruise Line"
      ]
     },
     "execution_count": 19,
     "metadata": {},
     "output_type": "execute_result"
    }
   ],
   "source": [
    "df_l.loc[:,['ship_name','major_cruise_line']].drop_duplicates('ship_name').loc[df_l['major_cruise_line'] =='Norwegian Cruise Line'].sort_values('ship_name')   \n",
    "## 16"
   ]
  },
  {
   "cell_type": "code",
   "execution_count": null,
   "metadata": {
    "collapsed": true
   },
   "outputs": [],
   "source": [
    "## Most popular ports, I picked ones I had interest in\n",
    "#df_l.sort_values('port_city_name').head()\n",
    "#df_l.groupby('port_city_name').count().head()\n",
    "#df_l.loc[df_l['port_city_name'] == 'Galveston'].count()    # 1326\n",
    "#df_l.loc[df_l['port_city_name'] == 'Houston'].count()      # 24\n",
    "#df_l.loc[df_l['port_city_name'] == 'New Orleans'].count()  # 2044\n",
    "#df_l.loc[df_l['port_city_name'] == 'Cozumel'].count()      # 6510"
   ]
  },
  {
   "cell_type": "code",
   "execution_count": 20,
   "metadata": {},
   "outputs": [
    {
     "data": {
      "text/plain": [
       "ship_name\n",
       "Spirit Of Tasmania II      1.596397e+09\n",
       "Volendam                   1.308336e+09\n",
       "Splendour Of The Seas      1.284162e+09\n",
       "Celebrity Solstice         1.263337e+09\n",
       "Amsterdam                  1.091302e+09\n",
       "Norwegian Pearl            1.067904e+09\n",
       "Zaandam                    1.062173e+09\n",
       "Celebrity Constellation    1.058205e+09\n",
       "Noordam                    1.009234e+09\n",
       "Norwegian Spirit           9.992868e+08\n",
       "Name: meters_traveled, dtype: float64"
      ]
     },
     "execution_count": 20,
     "metadata": {},
     "output_type": "execute_result"
    }
   ],
   "source": [
    "# which ship traveled the most distance?\n",
    "#df_l['ship_name'].groupby(df_l['major_cruise_line_x']).value_counts()\n",
    "#df_l['meters_traveled'].groupby(df_l['ship_name']).sum()\n",
    "df_l['meters_traveled'].groupby(df_l['ship_name']).sum().sort_values(ascending=False).head(10)\n"
   ]
  },
  {
   "cell_type": "code",
   "execution_count": 21,
   "metadata": {},
   "outputs": [
    {
     "data": {
      "text/html": [
       "<div>\n",
       "<style>\n",
       "    .dataframe thead tr:only-child th {\n",
       "        text-align: right;\n",
       "    }\n",
       "\n",
       "    .dataframe thead th {\n",
       "        text-align: left;\n",
       "    }\n",
       "\n",
       "    .dataframe tbody tr th {\n",
       "        vertical-align: top;\n",
       "    }\n",
       "</style>\n",
       "<table border=\"1\" class=\"dataframe\">\n",
       "  <thead>\n",
       "    <tr style=\"text-align: right;\">\n",
       "      <th></th>\n",
       "      <th>ship_name</th>\n",
       "      <th>year_built</th>\n",
       "    </tr>\n",
       "  </thead>\n",
       "  <tbody>\n",
       "    <tr>\n",
       "      <th>214383</th>\n",
       "      <td>Sea Cloud</td>\n",
       "      <td>1931.0</td>\n",
       "    </tr>\n",
       "    <tr>\n",
       "      <th>159482</th>\n",
       "      <td>Tustumena</td>\n",
       "      <td>1963.0</td>\n",
       "    </tr>\n",
       "    <tr>\n",
       "      <th>506376</th>\n",
       "      <td>Oceanic</td>\n",
       "      <td>1963.0</td>\n",
       "    </tr>\n",
       "    <tr>\n",
       "      <th>487418</th>\n",
       "      <td>Matanuska</td>\n",
       "      <td>1963.0</td>\n",
       "    </tr>\n",
       "    <tr>\n",
       "      <th>487135</th>\n",
       "      <td>Malaspina</td>\n",
       "      <td>1963.0</td>\n",
       "    </tr>\n",
       "    <tr>\n",
       "      <th>285735</th>\n",
       "      <td>Marco Polo</td>\n",
       "      <td>1964.0</td>\n",
       "    </tr>\n",
       "    <tr>\n",
       "      <th>499747</th>\n",
       "      <td>National Geographic Sea Bird</td>\n",
       "      <td>1966.0</td>\n",
       "    </tr>\n",
       "    <tr>\n",
       "      <th>502861</th>\n",
       "      <td>National Geographic Sea Lion</td>\n",
       "      <td>1966.0</td>\n",
       "    </tr>\n",
       "    <tr>\n",
       "      <th>30813</th>\n",
       "      <td>Queen Elizabeth 2</td>\n",
       "      <td>1969.0</td>\n",
       "    </tr>\n",
       "    <tr>\n",
       "      <th>164395</th>\n",
       "      <td>The Azur</td>\n",
       "      <td>1971.0</td>\n",
       "    </tr>\n",
       "  </tbody>\n",
       "</table>\n",
       "</div>"
      ],
      "text/plain": [
       "                           ship_name  year_built\n",
       "214383                     Sea Cloud      1931.0\n",
       "159482                     Tustumena      1963.0\n",
       "506376                       Oceanic      1963.0\n",
       "487418                     Matanuska      1963.0\n",
       "487135                     Malaspina      1963.0\n",
       "285735                    Marco Polo      1964.0\n",
       "499747  National Geographic Sea Bird      1966.0\n",
       "502861  National Geographic Sea Lion      1966.0\n",
       "30813              Queen Elizabeth 2      1969.0\n",
       "164395                      The Azur      1971.0"
      ]
     },
     "execution_count": 21,
     "metadata": {},
     "output_type": "execute_result"
    }
   ],
   "source": [
    "# sort by ship year_built ?\n",
    "#df_l[['ship_name','year_built']].sort_values('year_built').head(10)\n",
    "#df_l[['ship_name','year_built']].sort_values('year_built').groupby(df_l['ship_name']).head(10) ## wrong\n",
    "\n",
    "#df_l[['ship_name','year_built']].groupby(df_l['ship_name']).head(10)  ## not sorted but grouped by ship\n",
    "#df_l[['ship_name','year_built']].groupby('ship_name').head(10)\n",
    "\n",
    "#df_l[['ship_name','year_built']].sort_values('year_built').head(10)   ## still duplicate ships\n",
    "df_l[['ship_name','year_built']].sort_values('year_built').drop_duplicates('ship_name').head(10)\n",
    "\n",
    "## sort_values can sort on a list of columns ['col1','col2']\n",
    "## unique() should work but does not\n",
    "## drop_duplicates"
   ]
  },
  {
   "cell_type": "code",
   "execution_count": 22,
   "metadata": {},
   "outputs": [
    {
     "data": {
      "text/html": [
       "<div>\n",
       "<style>\n",
       "    .dataframe thead tr:only-child th {\n",
       "        text-align: right;\n",
       "    }\n",
       "\n",
       "    .dataframe thead th {\n",
       "        text-align: left;\n",
       "    }\n",
       "\n",
       "    .dataframe tbody tr th {\n",
       "        vertical-align: top;\n",
       "    }\n",
       "</style>\n",
       "<table border=\"1\" class=\"dataframe\">\n",
       "  <thead>\n",
       "    <tr style=\"text-align: right;\">\n",
       "      <th></th>\n",
       "      <th>ship_name</th>\n",
       "      <th>year_built</th>\n",
       "    </tr>\n",
       "  </thead>\n",
       "  <tbody>\n",
       "    <tr>\n",
       "      <th>378708</th>\n",
       "      <td>Seabourn Quest</td>\n",
       "      <td>2011.0</td>\n",
       "    </tr>\n",
       "    <tr>\n",
       "      <th>491603</th>\n",
       "      <td>Celebrity Silhouette</td>\n",
       "      <td>2011.0</td>\n",
       "    </tr>\n",
       "    <tr>\n",
       "      <th>80252</th>\n",
       "      <td>Costa Favolosa</td>\n",
       "      <td>2011.0</td>\n",
       "    </tr>\n",
       "    <tr>\n",
       "      <th>81886</th>\n",
       "      <td>Costa Fascinosa</td>\n",
       "      <td>2012.0</td>\n",
       "    </tr>\n",
       "    <tr>\n",
       "      <th>495563</th>\n",
       "      <td>Celebrity Reflection</td>\n",
       "      <td>2012.0</td>\n",
       "    </tr>\n",
       "    <tr>\n",
       "      <th>379898</th>\n",
       "      <td>Norwegian Breakaway</td>\n",
       "      <td>2013.0</td>\n",
       "    </tr>\n",
       "    <tr>\n",
       "      <th>228634</th>\n",
       "      <td>Quantum Of The Seas</td>\n",
       "      <td>2014.0</td>\n",
       "    </tr>\n",
       "    <tr>\n",
       "      <th>381546</th>\n",
       "      <td>Norwegian Getaway</td>\n",
       "      <td>2014.0</td>\n",
       "    </tr>\n",
       "    <tr>\n",
       "      <th>229123</th>\n",
       "      <td>Anthem Of The Seas</td>\n",
       "      <td>2015.0</td>\n",
       "    </tr>\n",
       "    <tr>\n",
       "      <th>164247</th>\n",
       "      <td>Carnival Vista</td>\n",
       "      <td>2016.0</td>\n",
       "    </tr>\n",
       "  </tbody>\n",
       "</table>\n",
       "</div>"
      ],
      "text/plain": [
       "                   ship_name  year_built\n",
       "378708        Seabourn Quest      2011.0\n",
       "491603  Celebrity Silhouette      2011.0\n",
       "80252         Costa Favolosa      2011.0\n",
       "81886        Costa Fascinosa      2012.0\n",
       "495563  Celebrity Reflection      2012.0\n",
       "379898   Norwegian Breakaway      2013.0\n",
       "228634   Quantum Of The Seas      2014.0\n",
       "381546     Norwegian Getaway      2014.0\n",
       "229123    Anthem Of The Seas      2015.0\n",
       "164247        Carnival Vista      2016.0"
      ]
     },
     "execution_count": 22,
     "metadata": {},
     "output_type": "execute_result"
    }
   ],
   "source": [
    "# what are the newest ships\n",
    "#df_l[['ship_name','year_built']].sort_values('year_built').drop_duplicates('ship_name').tail(10) # gives NaN\n",
    "df_l[['ship_name','year_built']].sort_values('year_built').dropna(subset=['year_built']).drop_duplicates('ship_name').tail(10)"
   ]
  },
  {
   "cell_type": "code",
   "execution_count": 23,
   "metadata": {
    "collapsed": true
   },
   "outputs": [],
   "source": [
    "## need EDA conversion to get this format, also datetime is UTC\n",
    "# example: df_movies['Released'] = pd.to_datetime(df_movies['Released'], infer_datetime_format=True)\n",
    "df_l['date'] = pd.to_datetime(df_l['date'], infer_datetime_format=True, format=\"%y-%m-%d\", utc=True) \n",
    "## unit='D' instead of default ns"
   ]
  },
  {
   "cell_type": "code",
   "execution_count": null,
   "metadata": {
    "collapsed": true
   },
   "outputs": [],
   "source": [
    "#df_l.dtypes   ## now datetime64[ns]\n",
    "## https://docs.scipy.org/doc/numpy-dev/reference/arrays.datetime.html"
   ]
  },
  {
   "cell_type": "code",
   "execution_count": 24,
   "metadata": {},
   "outputs": [
    {
     "data": {
      "text/html": [
       "<div>\n",
       "<style>\n",
       "    .dataframe thead tr:only-child th {\n",
       "        text-align: right;\n",
       "    }\n",
       "\n",
       "    .dataframe thead th {\n",
       "        text-align: left;\n",
       "    }\n",
       "\n",
       "    .dataframe tbody tr th {\n",
       "        vertical-align: top;\n",
       "    }\n",
       "</style>\n",
       "<table border=\"1\" class=\"dataframe\">\n",
       "  <thead>\n",
       "    <tr style=\"text-align: right;\">\n",
       "      <th></th>\n",
       "      <th>ship_name</th>\n",
       "      <th>date</th>\n",
       "    </tr>\n",
       "  </thead>\n",
       "  <tbody>\n",
       "    <tr>\n",
       "      <th>17480</th>\n",
       "      <td>Napoleon Bonaparte</td>\n",
       "      <td>2003-01-01</td>\n",
       "    </tr>\n",
       "    <tr>\n",
       "      <th>190245</th>\n",
       "      <td>Star Pisces</td>\n",
       "      <td>2003-01-01</td>\n",
       "    </tr>\n",
       "    <tr>\n",
       "      <th>142769</th>\n",
       "      <td>Statendam</td>\n",
       "      <td>2003-01-01</td>\n",
       "    </tr>\n",
       "    <tr>\n",
       "      <th>41565</th>\n",
       "      <td>Fantasy</td>\n",
       "      <td>2003-01-01</td>\n",
       "    </tr>\n",
       "    <tr>\n",
       "      <th>138740</th>\n",
       "      <td>Ryndam</td>\n",
       "      <td>2003-01-01</td>\n",
       "    </tr>\n",
       "  </tbody>\n",
       "</table>\n",
       "</div>"
      ],
      "text/plain": [
       "                 ship_name       date\n",
       "17480   Napoleon Bonaparte 2003-01-01\n",
       "190245         Star Pisces 2003-01-01\n",
       "142769           Statendam 2003-01-01\n",
       "41565              Fantasy 2003-01-01\n",
       "138740              Ryndam 2003-01-01"
      ]
     },
     "execution_count": 24,
     "metadata": {},
     "output_type": "execute_result"
    }
   ],
   "source": [
    "# first year a ship sailed (check if 2003 when data begins or shortly after)\n",
    "df_l[['ship_name','date']].sort_values('date').head()"
   ]
  },
  {
   "cell_type": "code",
   "execution_count": 25,
   "metadata": {},
   "outputs": [
    {
     "data": {
      "text/html": [
       "<div>\n",
       "<style>\n",
       "    .dataframe thead tr:only-child th {\n",
       "        text-align: right;\n",
       "    }\n",
       "\n",
       "    .dataframe thead th {\n",
       "        text-align: left;\n",
       "    }\n",
       "\n",
       "    .dataframe tbody tr th {\n",
       "        vertical-align: top;\n",
       "    }\n",
       "</style>\n",
       "<table border=\"1\" class=\"dataframe\">\n",
       "  <thead>\n",
       "    <tr style=\"text-align: right;\">\n",
       "      <th></th>\n",
       "      <th>ship_name</th>\n",
       "      <th>date</th>\n",
       "    </tr>\n",
       "  </thead>\n",
       "  <tbody>\n",
       "    <tr>\n",
       "      <th>173571</th>\n",
       "      <td>MSC Magnifica</td>\n",
       "      <td>2017-06-28</td>\n",
       "    </tr>\n",
       "    <tr>\n",
       "      <th>496083</th>\n",
       "      <td>Celebrity Reflection</td>\n",
       "      <td>2017-06-28</td>\n",
       "    </tr>\n",
       "    <tr>\n",
       "      <th>117667</th>\n",
       "      <td>Stad Amsterdam</td>\n",
       "      <td>2017-06-28</td>\n",
       "    </tr>\n",
       "    <tr>\n",
       "      <th>328923</th>\n",
       "      <td>Brilliance Of The Seas</td>\n",
       "      <td>2017-06-28</td>\n",
       "    </tr>\n",
       "    <tr>\n",
       "      <th>331463</th>\n",
       "      <td>Legend Of The Seas</td>\n",
       "      <td>2017-06-28</td>\n",
       "    </tr>\n",
       "  </tbody>\n",
       "</table>\n",
       "</div>"
      ],
      "text/plain": [
       "                     ship_name       date\n",
       "173571           MSC Magnifica 2017-06-28\n",
       "496083    Celebrity Reflection 2017-06-28\n",
       "117667          Stad Amsterdam 2017-06-28\n",
       "328923  Brilliance Of The Seas 2017-06-28\n",
       "331463      Legend Of The Seas 2017-06-28"
      ]
     },
     "execution_count": 25,
     "metadata": {},
     "output_type": "execute_result"
    }
   ],
   "source": [
    "# last year a ship sailed\n",
    "df_l[['ship_name','date']].sort_values('date').tail()"
   ]
  },
  {
   "cell_type": "code",
   "execution_count": null,
   "metadata": {
    "collapsed": true
   },
   "outputs": [],
   "source": [
    "## inspect missing data ##"
   ]
  },
  {
   "cell_type": "code",
   "execution_count": 26,
   "metadata": {},
   "outputs": [
    {
     "name": "stdout",
     "output_type": "stream",
     "text": [
      "(506377, 28)\n"
     ]
    },
    {
     "data": {
      "text/plain": [
       "ship_name                 0\n",
       "callsign                  0\n",
       "major_cruise_line         0\n",
       "date                      0\n",
       "meters_traveled           0\n",
       "lat_start                 0\n",
       "lon_start                 0\n",
       "lat_end                   0\n",
       "lon_end                   0\n",
       "in_port                   0\n",
       "stopped_minutes           0\n",
       "num_periods               0\n",
       "port_city_id           1232\n",
       "port_city_name         1232\n",
       "port_city_country      1862\n",
       "name                      0\n",
       "wiki                   9952\n",
       "imo                   60243\n",
       "mmsi                  60363\n",
       "cruise_line           41888\n",
       "year_built            87296\n",
       "class                182176\n",
       "gross_tonnage         45439\n",
       "decks                163510\n",
       "capacity              95379\n",
       "length               163749\n",
       "vessel_type           60243\n",
       "flag                  60286\n",
       "dtype: int64"
      ]
     },
     "execution_count": 26,
     "metadata": {},
     "output_type": "execute_result"
    }
   ],
   "source": [
    "## 3k missing ship names (fixed) ## next time use df_subset ## what is the callsign?\n",
    "## was 36 with missing cruise line info\n",
    "#sns.countplot(x='ship_name',data=df_l, hue='ship_name') ## TOO BIG\n",
    "#df_l[['ship_name','callsign_x']].sort_values('ship_name',ascending=True).drop_duplicates('callsign_x').head(10)\n",
    "#df_l['ship_name'].sum()  ## bad error, see next cell:\n",
    "# add: --NotebookApp.iopub_data_rate_limit=10000000      ## 10 Mil\n",
    "## Riley says AWS lecture on Wednesday, may help\n",
    "#df_l['ship_name'].value_counts().sum()    ## 506377 which is same a shape\n",
    "print( df_l.shape)                           ## 506377, 28\n",
    "df_l.isnull().sum()\n"
   ]
  },
  {
   "cell_type": "code",
   "execution_count": null,
   "metadata": {
    "collapsed": true
   },
   "outputs": [],
   "source": [
    "# Error message:\n",
    "#IOPub data rate exceeded.\n",
    "#The notebook server will temporarily stop sending output\n",
    "#to the client in order to avoid crashing it.\n",
    "#To change this limit, set the config variable\n",
    "#`--NotebookApp.iopub_data_rate_limit`."
   ]
  },
  {
   "cell_type": "code",
   "execution_count": null,
   "metadata": {
    "collapsed": true
   },
   "outputs": [],
   "source": [
    "# num_periods data and stop_minutes are useful together\n",
    "# 3 tableau plots\n",
    "# 1 watson plot "
   ]
  },
  {
   "cell_type": "code",
   "execution_count": null,
   "metadata": {
    "collapsed": true
   },
   "outputs": [],
   "source": [
    "## https://everydaydata.co/2017/07/04/cruse-scraper.html  # blog July 4, 2017"
   ]
  },
  {
   "cell_type": "code",
   "execution_count": null,
   "metadata": {
    "collapsed": true
   },
   "outputs": [],
   "source": [
    "# what do I want to model ##\n",
    "## thoughts on using mcmc and pymc3 (except requires python3)\n",
    "## encapsolate everything you have learned (show it off in portfolio)\n",
    "## now think about what modeling to use, and what to predict next ##\n",
    "# a) travel lifespan -- think early, middle, recent (tracing and/or distribution)\n",
    "# b) rank different carriers\n",
    "# c) predict congestion (at ports)\n",
    "# d) predict density (I do not know the distribution)\n",
    "# e) predict increased traffic trend ## any hypothesis\n",
    "# f) predict safety (discuss this option)\n",
    "# g) yearly (macroscopic) stock trend correlate with this data   (Liz would want to by stock in CCL, or favorite)\n",
    "# h) question: What impact did weather have? Is their correlation?\n",
    "##   more ... FAQ, ask around ... focus on the business information (BI) perspective"
   ]
  },
  {
   "cell_type": "code",
   "execution_count": null,
   "metadata": {
    "collapsed": true
   },
   "outputs": [],
   "source": [
    "#from ipyparallel import Client   ## ImportError: No module named ipyparallel"
   ]
  },
  {
   "cell_type": "code",
   "execution_count": null,
   "metadata": {
    "collapsed": true
   },
   "outputs": [],
   "source": [
    "## now 8 plots to choose, ## 3 stored plots & 1 map plot  "
   ]
  },
  {
   "cell_type": "code",
   "execution_count": 27,
   "metadata": {},
   "outputs": [
    {
     "name": "stdout",
     "output_type": "stream",
     "text": [
      "(1950, 28)\n",
      "(356129, 28)\n",
      "(358079, 28)\n"
     ]
    }
   ],
   "source": [
    "## checkpoint before vessel drop\n",
    "df_v1 = df_l[df_l.vessel_type == 'passenger']\n",
    "print( df_v1.shape)              # 1950, 28\n",
    "df_v2 = df_l[df_l.vessel_type == 'passengers ship']\n",
    "print( df_v2.shape)              # 356129, 28\n",
    "\n",
    "df_m = pd.concat([df_v1,df_v2])   # dataFrame for minutes stopped only when in_port\n",
    "print( df_m.shape)               # 358079, 28    ## df_m minutes\n",
    "pd.DataFrame(df_m).to_csv('check_dfm.csv', index=False, encoding='utf-8')  ## 120Meg vs before was 160Meg\n",
    "## drop everything except \"passengers ship\" and  \"passenger\"\n"
   ]
  },
  {
   "cell_type": "code",
   "execution_count": 28,
   "metadata": {
    "collapsed": true
   },
   "outputs": [],
   "source": [
    "# convert in_port bool\n",
    "df_m['in_port'] = df_m.in_port.map({True: 1, False:0})   ## dont run twice"
   ]
  },
  {
   "cell_type": "code",
   "execution_count": 29,
   "metadata": {},
   "outputs": [
    {
     "name": "stdout",
     "output_type": "stream",
     "text": [
      "(141910, 28)\n",
      "ship_name            0\n",
      "callsign             0\n",
      "major_cruise_line    0\n",
      "date                 0\n",
      "meters_traveled      0\n",
      "lat_start            0\n",
      "lon_start            0\n",
      "lat_end              0\n",
      "lon_end              0\n",
      "in_port              0\n",
      "stopped_minutes      0\n",
      "num_periods          0\n",
      "port_city_id         0\n",
      "port_city_name       0\n",
      "port_city_country    0\n",
      "name                 0\n",
      "wiki                 0\n",
      "imo                  0\n",
      "mmsi                 0\n",
      "cruise_line          0\n",
      "year_built           0\n",
      "class                0\n",
      "gross_tonnage        0\n",
      "decks                0\n",
      "capacity             0\n",
      "length               0\n",
      "vessel_type          0\n",
      "flag                 0\n",
      "dtype: int64\n",
      "ship_name                    object\n",
      "callsign                     object\n",
      "major_cruise_line            object\n",
      "date                 datetime64[ns]\n",
      "meters_traveled             float64\n",
      "lat_start                   float64\n",
      "lon_start                   float64\n",
      "lat_end                     float64\n",
      "lon_end                     float64\n",
      "in_port                       int64\n",
      "stopped_minutes               int64\n",
      "num_periods                   int64\n",
      "port_city_id                 object\n",
      "port_city_name               object\n",
      "port_city_country            object\n",
      "name                         object\n",
      "wiki                         object\n",
      "imo                         float64\n",
      "mmsi                        float64\n",
      "cruise_line                  object\n",
      "year_built                  float64\n",
      "class                        object\n",
      "gross_tonnage               float64\n",
      "decks                       float64\n",
      "capacity                    float64\n",
      "length                      float64\n",
      "vessel_type                  object\n",
      "flag                         object\n",
      "dtype: object\n"
     ]
    }
   ],
   "source": [
    "df_m.dropna( inplace=True)\n",
    "print( df_m.shape )                 #141910, 28\n",
    "print( df_m.isnull().sum() )\n",
    "print( df_m.dtypes )"
   ]
  },
  {
   "cell_type": "code",
   "execution_count": 30,
   "metadata": {},
   "outputs": [
    {
     "name": "stdout",
     "output_type": "stream",
     "text": [
      "['meters_traveled', 'lat_start', 'lon_start', 'lat_end', 'lon_end', 'in_port', 'num_periods', 'year_built', 'gross_tonnage', 'decks', 'capacity', 'length']\n"
     ]
    }
   ],
   "source": [
    "#features= [c for c in df_v.columns \\\n",
    "#           if (not 'wiki' in c) and (not 'imo' in c) and (not 'mmsi' in c) and (not '_end' in c)]\n",
    "        ## dont need wiki URL,  dont need contact, dont need contact, _end is for Label\n",
    "#features = ['date','meters_traveled','lat_start','lon_start','in_port','stopped_minutes','num_periods','year_built', 'gross_tonnage', 'decks', 'capacity', 'length' ]\n",
    "features = [        'meters_traveled','lat_start','lon_start','lat_end','lon_end','in_port','num_periods','year_built', 'gross_tonnage', 'decks', 'capacity', 'length' ]\n",
    "# removed datetime[ns]\n",
    "\n",
    "print( features)  ## numeric for model \n",
    "#[ 'meters_traveled', 'lat_start', 'lon_start','in_port', 'stopped_minutes', 'num_periods',\n",
    "#'year_built', 'gross_tonnage', 'decks', 'capacity', 'length']"
   ]
  },
  {
   "cell_type": "code",
   "execution_count": 31,
   "metadata": {},
   "outputs": [
    {
     "data": {
      "text/plain": [
       "<matplotlib.text.Text at 0x7f5ba7123eb8>"
      ]
     },
     "execution_count": 31,
     "metadata": {},
     "output_type": "execute_result"
    },
    {
     "data": {
      "image/png": "[encoded data removed]",
      "text/plain": [
       "<matplotlib.figure.Figure at 0x7f5ba7184e80>"
      ]
     },
     "metadata": {},
     "output_type": "display_data"
    }
   ],
   "source": [
    "plt.figure(figsize=(12,12))\n",
    "sns.heatmap(df_m[features].corr(), annot=True)   ## these are features only\n",
    "                                                 ## not listed is datetime[ns]\n",
    "plt.title(\"features=12 Correlation Heatmap\") "
   ]
  },
  {
   "cell_type": "code",
   "execution_count": 32,
   "metadata": {
    "collapsed": true
   },
   "outputs": [],
   "source": [
    "X = df_m[features]\n",
    "y_minutes = df_m['stopped_minutes'].values\n"
   ]
  },
  {
   "cell_type": "code",
   "execution_count": 33,
   "metadata": {},
   "outputs": [
    {
     "name": "stdout",
     "output_type": "stream",
     "text": [
      "(141910, 12)\n",
      "(141910,)\n"
     ]
    }
   ],
   "source": [
    "print( X.shape)              # 141910, 12\n",
    "print( y_minutes.shape)      # 141910\n"
   ]
  },
  {
   "cell_type": "code",
   "execution_count": 34,
   "metadata": {
    "collapsed": true
   },
   "outputs": [],
   "source": [
    "ss = StandardScaler()   ## for Keras Gradient Descent\n"
   ]
  },
  {
   "cell_type": "code",
   "execution_count": 35,
   "metadata": {
    "collapsed": true
   },
   "outputs": [],
   "source": [
    "# now split\n",
    "X_train, X_test, y_minutes_train, y_minutes_test \\\n",
    " = train_test_split(X,y_minutes, test_size=.30) \n",
    "# default is 30%"
   ]
  },
  {
   "cell_type": "code",
   "execution_count": 36,
   "metadata": {
    "collapsed": true
   },
   "outputs": [],
   "source": [
    "X_train = ss.fit_transform(X_train)\n",
    "X_test = ss.transform(X_test)"
   ]
  },
  {
   "cell_type": "code",
   "execution_count": 46,
   "metadata": {},
   "outputs": [],
   "source": [
    "filepath = 'weights.{epoch:02d}-{val_loss:.2f}.hdf5'\n",
    "## setup Checkpoint at each epoch, #keras\n",
    "#callbacks.ModelCheckpoint(filepath, monitor='val_loss', verbose=0, save_best_only=False, save_weights_only=False, mode='auto', period=1)\n",
    "# does not give me a model"
   ]
  },
  {
   "cell_type": "code",
   "execution_count": 38,
   "metadata": {
    "collapsed": true
   },
   "outputs": [],
   "source": [
    "kf = KFold(random_state=2003)                         ## default is 3 fold, conservative\n",
    "\n",
    "model = Sequential()\n",
    "model.add(Dense(12, input_dim=12, activation=\"elu\"))    # exponential-linear-unit   leaky-Relu\n",
    "model.add(Dropout(.33))  ## for layer above\n",
    "\n",
    "# add/remove another hidden layer\n",
    "model.add(Dense(24, activation=\"relu\"))\n",
    "model.add(Dropout(.5))\n",
    "\n",
    "model.add(Dense(1, activation=\"relu\"))    ## or leave out activation         # output\n",
    "model.compile(loss=\"mean_squared_error\", optimizer =\"adam\", metrics=[\"mae\"])"
   ]
  },
  {
   "cell_type": "code",
   "execution_count": 40,
   "metadata": {},
   "outputs": [
    {
     "name": "stdout",
     "output_type": "stream",
     "text": [
      "Wed Sep  6 10:48:50 CDT 2017\r\n"
     ]
    }
   ],
   "source": [
    "!date"
   ]
  },
  {
   "cell_type": "code",
   "execution_count": 41,
   "metadata": {},
   "outputs": [
    {
     "name": "stdout",
     "output_type": "stream",
     "text": [
      "Train on 99337 samples, validate on 42573 samples\n",
      "Epoch 1/10\n",
      "99337/99337 [==============================] - 113s - loss: 24534.4915 - mean_absolute_error: 71.3979 - val_loss: 12401.1824 - val_mean_absolute_error: 51.3742\n",
      "Epoch 2/10\n",
      "99337/99337 [==============================] - 112s - loss: 19957.7915 - mean_absolute_error: 66.6272 - val_loss: 12747.2393 - val_mean_absolute_error: 52.3403\n",
      "Epoch 3/10\n",
      "99337/99337 [==============================] - 112s - loss: 19046.0351 - mean_absolute_error: 66.1714 - val_loss: 11634.6525 - val_mean_absolute_error: 50.4716\n",
      "Epoch 4/10\n",
      "99337/99337 [==============================] - 112s - loss: 18137.3905 - mean_absolute_error: 64.8362 - val_loss: 11365.8673 - val_mean_absolute_error: 46.9260\n",
      "Epoch 5/10\n",
      "99337/99337 [==============================] - 112s - loss: 17943.6441 - mean_absolute_error: 63.9271 - val_loss: 11971.1512 - val_mean_absolute_error: 46.3757\n",
      "Epoch 6/10\n",
      "99337/99337 [==============================] - 113s - loss: 17392.7478 - mean_absolute_error: 63.0202 - val_loss: 11446.7612 - val_mean_absolute_error: 46.0967\n",
      "Epoch 7/10\n",
      "99337/99337 [==============================] - 112s - loss: 17391.9990 - mean_absolute_error: 63.0772 - val_loss: 11034.1873 - val_mean_absolute_error: 45.9154\n",
      "Epoch 8/10\n",
      "99337/99337 [==============================] - 112s - loss: 17484.0675 - mean_absolute_error: 63.5429 - val_loss: 11065.0287 - val_mean_absolute_error: 45.8667\n",
      "Epoch 9/10\n",
      "99337/99337 [==============================] - 112s - loss: 17192.5615 - mean_absolute_error: 63.4292 - val_loss: 11500.6637 - val_mean_absolute_error: 46.4274\n",
      "Epoch 10/10\n",
      "99337/99337 [==============================] - 112s - loss: 17301.5765 - mean_absolute_error: 63.5579 - val_loss: 11751.3383 - val_mean_absolute_error: 46.6338\n"
     ]
    },
    {
     "data": {
      "text/plain": [
       "<keras.callbacks.History at 0x7f5ba47688d0>"
      ]
     },
     "execution_count": 41,
     "metadata": {},
     "output_type": "execute_result"
    }
   ],
   "source": [
    "model.fit(X_train, y_minutes_train, epochs=10, batch_size=1, validation_data=(X_test, y_minutes_test))"
   ]
  },
  {
   "cell_type": "code",
   "execution_count": 42,
   "metadata": {},
   "outputs": [
    {
     "name": "stdout",
     "output_type": "stream",
     "text": [
      "Wed Sep  6 11:07:37 CDT 2017\r\n"
     ]
    }
   ],
   "source": [
    "!date\n",
    "## date not really valid, since it includes the walk to the train 15min-8min=7\n",
    "# the epochs=10 took 67min37sec - 48min50sec = 19min "
   ]
  },
  {
   "cell_type": "code",
   "execution_count": 43,
   "metadata": {},
   "outputs": [
    {
     "name": "stdout",
     "output_type": "stream",
     "text": [
      "10 epochs is too much, because the last 4th was wiggle\n"
     ]
    }
   ],
   "source": [
    "## save keras model, see above where callback was created, but not working for this project/model\n",
    "print(\"10 epochs is too much, because the last 4th was wiggle\")"
   ]
  },
  {
   "cell_type": "code",
   "execution_count": 47,
   "metadata": {
    "collapsed": true
   },
   "outputs": [],
   "source": [
    "import pydotplus as pydot \n",
    "import graphviz\n",
    "from keras.utils import plot_model\n",
    "plot_model(model, to_file='keras_model.png')"
   ]
  },
  {
   "cell_type": "code",
   "execution_count": 49,
   "metadata": {},
   "outputs": [],
   "source": [
    "#%timeit print(\"hellow world!\")\n",
    "# 46.6 µs ± 3.67 µs per loop (mean ± std. dev. of 7 runs, 10000 loops each)"
   ]
  },
  {
   "cell_type": "code",
   "execution_count": 50,
   "metadata": {
    "collapsed": true
   },
   "outputs": [],
   "source": [
    "## predict\n",
    "pred = model.predict(X_test)"
   ]
  },
  {
   "cell_type": "code",
   "execution_count": 51,
   "metadata": {
    "collapsed": true
   },
   "outputs": [],
   "source": [
    "from sklearn import metrics"
   ]
  },
  {
   "cell_type": "code",
   "execution_count": 52,
   "metadata": {},
   "outputs": [
    {
     "data": {
      "text/plain": [
       "0.88019081036971714"
      ]
     },
     "execution_count": 52,
     "metadata": {},
     "output_type": "execute_result"
    }
   ],
   "source": [
    "metrics.r2_score(y_minutes_test,pred)   # we got 88.6% r2_score with test/prediction\n",
    "                                      ## 2nd run 88.0%, suspect overfitting"
   ]
  },
  {
   "cell_type": "code",
   "execution_count": null,
   "metadata": {
    "collapsed": true
   },
   "outputs": [],
   "source": [
    "## more overfitting discussion\n",
    "## force Dropout, randomly, over time they generalize better, reduce overfit"
   ]
  },
  {
   "cell_type": "code",
   "execution_count": 53,
   "metadata": {},
   "outputs": [
    {
     "name": "stdout",
     "output_type": "stream",
     "text": [
      "_________________________________________________________________\n",
      "Layer (type)                 Output Shape              Param #   \n",
      "=================================================================\n",
      "dense_1 (Dense)              (None, 12)                156       \n",
      "_________________________________________________________________\n",
      "dropout_1 (Dropout)          (None, 12)                0         \n",
      "_________________________________________________________________\n",
      "dense_2 (Dense)              (None, 24)                312       \n",
      "_________________________________________________________________\n",
      "dropout_2 (Dropout)          (None, 24)                0         \n",
      "_________________________________________________________________\n",
      "dense_3 (Dense)              (None, 1)                 25        \n",
      "=================================================================\n",
      "Total params: 493\n",
      "Trainable params: 493\n",
      "Non-trainable params: 0\n",
      "_________________________________________________________________\n"
     ]
    }
   ],
   "source": [
    "model.summary()"
   ]
  },
  {
   "cell_type": "code",
   "execution_count": 55,
   "metadata": {},
   "outputs": [
    {
     "ename": "AttributeError",
     "evalue": "'numpy.ndarray' object has no attribute 'head'",
     "output_type": "error",
     "traceback": [
      "\u001b[0;31m---------------------------------------------------------------------------\u001b[0m",
      "\u001b[0;31mAttributeError\u001b[0m                            Traceback (most recent call last)",
      "\u001b[0;32m<ipython-input-55-f476cf6ff76c>\u001b[0m in \u001b[0;36m<module>\u001b[0;34m()\u001b[0m\n\u001b[0;32m----> 1\u001b[0;31m \u001b[0mpred\u001b[0m\u001b[0;34m.\u001b[0m\u001b[0mhead\u001b[0m\u001b[0;34m(\u001b[0m\u001b[0;36m10\u001b[0m\u001b[0;34m)\u001b[0m\u001b[0;34m\u001b[0m\u001b[0m\n\u001b[0m",
      "\u001b[0;31mAttributeError\u001b[0m: 'numpy.ndarray' object has no attribute 'head'"
     ]
    }
   ],
   "source": [
    "pred.head(10)"
   ]
  },
  {
   "cell_type": "code",
   "execution_count": 58,
   "metadata": {},
   "outputs": [
    {
     "data": {
      "text/plain": [
       "<matplotlib.axes._subplots.AxesSubplot at 0x7fa3e5cf52b0>"
      ]
     },
     "execution_count": 58,
     "metadata": {},
     "output_type": "execute_result"
    },
    {
     "data": {
      "image/png": "[encoded data removed]",
      "text/plain": [
       "<matplotlib.figure.Figure at 0x7fa3e5cf5a58>"
      ]
     },
     "metadata": {},
     "output_type": "display_data"
    }
   ],
   "source": [
    "sns.distplot(pred, kde=False, rug=True, bins=30)  # I want the Hue to be in_port\n",
    "# this is long run time"
   ]
  },
  {
   "cell_type": "code",
   "execution_count": 54,
   "metadata": {},
   "outputs": [
    {
     "name": "stdout",
     "output_type": "stream",
     "text": [
      "Wed Sep  6 11:19:36 CDT 2017\n",
      "Wed Sep  6 11:34:34 CDT 2017\n"
     ]
    },
    {
     "data": {
      "image/png": "[encoded data removed]",
      "text/plain": [
       "<matplotlib.figure.Figure at 0x7f5ba463ee48>"
      ]
     },
     "metadata": {},
     "output_type": "display_data"
    }
   ],
   "source": [
    "#sns.pairplot(y_minutes_test, hue=ss.inverse_transform(X_test)[:,5])\n",
    "!date\n",
    "sns.distplot(ss.inverse_transform(X_test)[:,5], kde=False, rug=True, bins=30)\n",
    "!date\n",
    "## this took 34min - 19min = 15min\n",
    "## plot means ships out-of-port most of the time"
   ]
  },
  {
   "cell_type": "code",
   "execution_count": null,
   "metadata": {
    "collapsed": true
   },
   "outputs": [],
   "source": [
    "# select smaller slice of the data to plot\n",
    "\n",
    "\n"
   ]
  },
  {
   "cell_type": "code",
   "execution_count": 66,
   "metadata": {},
   "outputs": [
    {
     "data": {
      "text/plain": [
       "['meters_traveled',\n",
       " 'lat_start',\n",
       " 'lon_start',\n",
       " 'lat_end',\n",
       " 'lon_end',\n",
       " 'in_port',\n",
       " 'num_periods',\n",
       " 'year_built',\n",
       " 'gross_tonnage',\n",
       " 'decks',\n",
       " 'capacity',\n",
       " 'length']"
      ]
     },
     "execution_count": 66,
     "metadata": {},
     "output_type": "execute_result"
    }
   ],
   "source": [
    "features"
   ]
  },
  {
   "cell_type": "code",
   "execution_count": 74,
   "metadata": {},
   "outputs": [
    {
     "data": {
      "text/plain": [
       "array([ 0.,  0.,  0., ...,  1.,  0.,  1.])"
      ]
     },
     "execution_count": 74,
     "metadata": {},
     "output_type": "execute_result"
    }
   ],
   "source": [
    "ss.inverse_transform(X_test)[:,5]              #[:,5]  # these are in StandardScaler units for in_port"
   ]
  },
  {
   "cell_type": "code",
   "execution_count": 56,
   "metadata": {},
   "outputs": [
    {
     "data": {
      "text/plain": [
       "15"
      ]
     },
     "execution_count": 56,
     "metadata": {},
     "output_type": "execute_result"
    }
   ],
   "source": [
    "34-19"
   ]
  },
  {
   "cell_type": "code",
   "execution_count": null,
   "metadata": {
    "collapsed": true
   },
   "outputs": [],
   "source": []
  }
 ],
 "metadata": {
  "kernelspec": {
   "display_name": "Python 2",
   "language": "python",
   "name": "python2"
  },
  "language_info": {
   "codemirror_mode": {
    "name": "ipython",
    "version": 3
   },
   "file_extension": ".py",
   "mimetype": "text/x-python",
   "name": "python",
   "nbconvert_exporter": "python",
   "pygments_lexer": "ipython3",
   "version": "3.5.3"
  }
 },
 "nbformat": 4,
 "nbformat_minor": 2
}
